{
  "nbformat": 4,
  "nbformat_minor": 0,
  "metadata": {
    "colab": {
      "name": "EX03_Classic_ML.ipynb",
      "provenance": [],
      "toc_visible": true
    },
    "kernelspec": {
      "display_name": "Python 3",
      "language": "python",
      "name": "python3"
    },
    "language_info": {
      "codemirror_mode": {
        "name": "ipython",
        "version": 3
      },
      "file_extension": ".py",
      "mimetype": "text/x-python",
      "name": "python",
      "nbconvert_exporter": "python",
      "pygments_lexer": "ipython3",
      "version": "3.8.6"
    }
  },
  "cells": [
    {
      "cell_type": "markdown",
      "metadata": {
        "id": "khHBYTDTkQxm"
      },
      "source": [
        "# Содержание\n",
        "* 1. [Задания](#Задания)<br>\n",
        "    * 1.1 [Задание 1](#Задание-1)<br>\n",
        "    * 1.2 [Задание 2](#Задание-2)<br>\n",
        "    * 1.3 [Задание 3](#Задание-4)<br>\n",
        "    * 1.4 [Задание 4](#Задание-7)<br>\n",
        "    * 1.5 [Задание 5](#Задание-3)<br>\n",
        "    * 1.6 [Задание 6](#Задание-5)<br>\n",
        "    * 1.7 [Задание 7](#Задание-6)<br>\n"
      ]
    },
    {
      "cell_type": "markdown",
      "metadata": {
        "id": "QMkSMBIAkQxq"
      },
      "source": [
        "# Задания<a class=\"anchor\" style=\"autocontent\" id=\"Задания\"/><br>"
      ]
    },
    {
      "cell_type": "code",
      "metadata": {
        "id": "rVDl7MxTnjEZ"
      },
      "source": [
        ""
      ],
      "execution_count": null,
      "outputs": []
    },
    {
      "cell_type": "code",
      "metadata": {
        "id": "hu7xLSxckQxr",
        "colab": {
          "base_uri": "https://localhost:8080/"
        },
        "outputId": "4212123f-1cd9-496b-a821-87190ef1fe34"
      },
      "source": [
        "!pip install gdown\n",
        "!pip install optuna\n",
        "!pip install catboost\n",
        "!pip install pytorch-tabnet\n",
        "!pip install -U imbalanced-learn"
      ],
      "execution_count": 1,
      "outputs": [
        {
          "output_type": "stream",
          "name": "stdout",
          "text": [
            "Requirement already satisfied: gdown in /usr/local/lib/python3.7/dist-packages (3.6.4)\n",
            "Requirement already satisfied: requests in /usr/local/lib/python3.7/dist-packages (from gdown) (2.23.0)\n",
            "Requirement already satisfied: tqdm in /usr/local/lib/python3.7/dist-packages (from gdown) (4.62.3)\n",
            "Requirement already satisfied: six in /usr/local/lib/python3.7/dist-packages (from gdown) (1.15.0)\n",
            "Requirement already satisfied: chardet<4,>=3.0.2 in /usr/local/lib/python3.7/dist-packages (from requests->gdown) (3.0.4)\n",
            "Requirement already satisfied: urllib3!=1.25.0,!=1.25.1,<1.26,>=1.21.1 in /usr/local/lib/python3.7/dist-packages (from requests->gdown) (1.24.3)\n",
            "Requirement already satisfied: certifi>=2017.4.17 in /usr/local/lib/python3.7/dist-packages (from requests->gdown) (2021.5.30)\n",
            "Requirement already satisfied: idna<3,>=2.5 in /usr/local/lib/python3.7/dist-packages (from requests->gdown) (2.10)\n",
            "Collecting optuna\n",
            "  Downloading optuna-2.10.0-py3-none-any.whl (308 kB)\n",
            "\u001b[K     |████████████████████████████████| 308 kB 8.5 MB/s \n",
            "\u001b[?25hCollecting cliff\n",
            "  Downloading cliff-3.9.0-py3-none-any.whl (80 kB)\n",
            "\u001b[K     |████████████████████████████████| 80 kB 10.5 MB/s \n",
            "\u001b[?25hRequirement already satisfied: tqdm in /usr/local/lib/python3.7/dist-packages (from optuna) (4.62.3)\n",
            "Requirement already satisfied: PyYAML in /usr/local/lib/python3.7/dist-packages (from optuna) (3.13)\n",
            "Requirement already satisfied: numpy in /usr/local/lib/python3.7/dist-packages (from optuna) (1.19.5)\n",
            "Collecting cmaes>=0.8.2\n",
            "  Downloading cmaes-0.8.2-py3-none-any.whl (15 kB)\n",
            "Requirement already satisfied: scipy!=1.4.0 in /usr/local/lib/python3.7/dist-packages (from optuna) (1.4.1)\n",
            "Requirement already satisfied: sqlalchemy>=1.1.0 in /usr/local/lib/python3.7/dist-packages (from optuna) (1.4.25)\n",
            "Collecting colorlog\n",
            "  Downloading colorlog-6.5.0-py2.py3-none-any.whl (11 kB)\n",
            "Requirement already satisfied: packaging>=20.0 in /usr/local/lib/python3.7/dist-packages (from optuna) (21.0)\n",
            "Collecting alembic\n",
            "  Downloading alembic-1.7.4-py3-none-any.whl (209 kB)\n",
            "\u001b[K     |████████████████████████████████| 209 kB 77.3 MB/s \n",
            "\u001b[?25hRequirement already satisfied: pyparsing>=2.0.2 in /usr/local/lib/python3.7/dist-packages (from packaging>=20.0->optuna) (2.4.7)\n",
            "Requirement already satisfied: importlib-metadata in /usr/local/lib/python3.7/dist-packages (from sqlalchemy>=1.1.0->optuna) (4.8.1)\n",
            "Requirement already satisfied: greenlet!=0.4.17 in /usr/local/lib/python3.7/dist-packages (from sqlalchemy>=1.1.0->optuna) (1.1.2)\n",
            "Requirement already satisfied: importlib-resources in /usr/local/lib/python3.7/dist-packages (from alembic->optuna) (5.2.2)\n",
            "Collecting Mako\n",
            "  Downloading Mako-1.1.5-py2.py3-none-any.whl (75 kB)\n",
            "\u001b[K     |████████████████████████████████| 75 kB 4.9 MB/s \n",
            "\u001b[?25hCollecting cmd2>=1.0.0\n",
            "  Downloading cmd2-2.2.0-py3-none-any.whl (144 kB)\n",
            "\u001b[K     |████████████████████████████████| 144 kB 60.8 MB/s \n",
            "\u001b[?25hCollecting stevedore>=2.0.1\n",
            "  Downloading stevedore-3.5.0-py3-none-any.whl (49 kB)\n",
            "\u001b[K     |████████████████████████████████| 49 kB 6.4 MB/s \n",
            "\u001b[?25hRequirement already satisfied: PrettyTable>=0.7.2 in /usr/local/lib/python3.7/dist-packages (from cliff->optuna) (2.2.1)\n",
            "Collecting pbr!=2.1.0,>=2.0.0\n",
            "  Downloading pbr-5.6.0-py2.py3-none-any.whl (111 kB)\n",
            "\u001b[K     |████████████████████████████████| 111 kB 60.3 MB/s \n",
            "\u001b[?25hCollecting autopage>=0.4.0\n",
            "  Downloading autopage-0.4.0-py3-none-any.whl (20 kB)\n",
            "Requirement already satisfied: typing-extensions in /usr/local/lib/python3.7/dist-packages (from cmd2>=1.0.0->cliff->optuna) (3.7.4.3)\n",
            "Collecting colorama>=0.3.7\n",
            "  Downloading colorama-0.4.4-py2.py3-none-any.whl (16 kB)\n",
            "Requirement already satisfied: wcwidth>=0.1.7 in /usr/local/lib/python3.7/dist-packages (from cmd2>=1.0.0->cliff->optuna) (0.2.5)\n",
            "Collecting pyperclip>=1.6\n",
            "  Downloading pyperclip-1.8.2.tar.gz (20 kB)\n",
            "Requirement already satisfied: attrs>=16.3.0 in /usr/local/lib/python3.7/dist-packages (from cmd2>=1.0.0->cliff->optuna) (21.2.0)\n",
            "Requirement already satisfied: zipp>=0.5 in /usr/local/lib/python3.7/dist-packages (from importlib-metadata->sqlalchemy>=1.1.0->optuna) (3.6.0)\n",
            "Requirement already satisfied: MarkupSafe>=0.9.2 in /usr/local/lib/python3.7/dist-packages (from Mako->alembic->optuna) (2.0.1)\n",
            "Building wheels for collected packages: pyperclip\n",
            "  Building wheel for pyperclip (setup.py) ... \u001b[?25l\u001b[?25hdone\n",
            "  Created wheel for pyperclip: filename=pyperclip-1.8.2-py3-none-any.whl size=11136 sha256=3956e33cab21381bc5012a1f37923354c4479cf32bc8f3c9a08f0d07121d2965\n",
            "  Stored in directory: /root/.cache/pip/wheels/9f/18/84/8f69f8b08169c7bae2dde6bd7daf0c19fca8c8e500ee620a28\n",
            "Successfully built pyperclip\n",
            "Installing collected packages: pyperclip, pbr, colorama, stevedore, Mako, cmd2, autopage, colorlog, cmaes, cliff, alembic, optuna\n",
            "Successfully installed Mako-1.1.5 alembic-1.7.4 autopage-0.4.0 cliff-3.9.0 cmaes-0.8.2 cmd2-2.2.0 colorama-0.4.4 colorlog-6.5.0 optuna-2.10.0 pbr-5.6.0 pyperclip-1.8.2 stevedore-3.5.0\n",
            "Collecting catboost\n",
            "  Downloading catboost-1.0.0-cp37-none-manylinux1_x86_64.whl (76.4 MB)\n",
            "\u001b[K     |████████████████████████████████| 76.4 MB 24 kB/s \n",
            "\u001b[?25hRequirement already satisfied: matplotlib in /usr/local/lib/python3.7/dist-packages (from catboost) (3.2.2)\n",
            "Requirement already satisfied: plotly in /usr/local/lib/python3.7/dist-packages (from catboost) (4.4.1)\n",
            "Requirement already satisfied: six in /usr/local/lib/python3.7/dist-packages (from catboost) (1.15.0)\n",
            "Requirement already satisfied: graphviz in /usr/local/lib/python3.7/dist-packages (from catboost) (0.10.1)\n",
            "Requirement already satisfied: pandas>=0.24.0 in /usr/local/lib/python3.7/dist-packages (from catboost) (1.1.5)\n",
            "Requirement already satisfied: scipy in /usr/local/lib/python3.7/dist-packages (from catboost) (1.4.1)\n",
            "Requirement already satisfied: numpy>=1.16.0 in /usr/local/lib/python3.7/dist-packages (from catboost) (1.19.5)\n",
            "Requirement already satisfied: pytz>=2017.2 in /usr/local/lib/python3.7/dist-packages (from pandas>=0.24.0->catboost) (2018.9)\n",
            "Requirement already satisfied: python-dateutil>=2.7.3 in /usr/local/lib/python3.7/dist-packages (from pandas>=0.24.0->catboost) (2.8.2)\n",
            "Requirement already satisfied: pyparsing!=2.0.4,!=2.1.2,!=2.1.6,>=2.0.1 in /usr/local/lib/python3.7/dist-packages (from matplotlib->catboost) (2.4.7)\n",
            "Requirement already satisfied: kiwisolver>=1.0.1 in /usr/local/lib/python3.7/dist-packages (from matplotlib->catboost) (1.3.2)\n",
            "Requirement already satisfied: cycler>=0.10 in /usr/local/lib/python3.7/dist-packages (from matplotlib->catboost) (0.10.0)\n",
            "Requirement already satisfied: retrying>=1.3.3 in /usr/local/lib/python3.7/dist-packages (from plotly->catboost) (1.3.3)\n",
            "Installing collected packages: catboost\n",
            "Successfully installed catboost-1.0.0\n",
            "Collecting pytorch-tabnet\n",
            "  Downloading pytorch_tabnet-3.1.1-py3-none-any.whl (39 kB)\n",
            "Requirement already satisfied: scikit_learn>0.21 in /usr/local/lib/python3.7/dist-packages (from pytorch-tabnet) (0.22.2.post1)\n",
            "Requirement already satisfied: torch<2.0,>=1.2 in /usr/local/lib/python3.7/dist-packages (from pytorch-tabnet) (1.9.0+cu111)\n",
            "Requirement already satisfied: tqdm<5.0,>=4.36 in /usr/local/lib/python3.7/dist-packages (from pytorch-tabnet) (4.62.3)\n",
            "Requirement already satisfied: numpy<2.0,>=1.17 in /usr/local/lib/python3.7/dist-packages (from pytorch-tabnet) (1.19.5)\n",
            "Requirement already satisfied: scipy>1.4 in /usr/local/lib/python3.7/dist-packages (from pytorch-tabnet) (1.4.1)\n",
            "Requirement already satisfied: joblib>=0.11 in /usr/local/lib/python3.7/dist-packages (from scikit_learn>0.21->pytorch-tabnet) (1.0.1)\n",
            "Requirement already satisfied: typing-extensions in /usr/local/lib/python3.7/dist-packages (from torch<2.0,>=1.2->pytorch-tabnet) (3.7.4.3)\n",
            "Installing collected packages: pytorch-tabnet\n",
            "Successfully installed pytorch-tabnet-3.1.1\n",
            "Requirement already satisfied: imbalanced-learn in /usr/local/lib/python3.7/dist-packages (0.4.3)\n",
            "Collecting imbalanced-learn\n",
            "  Downloading imbalanced_learn-0.8.1-py3-none-any.whl (189 kB)\n",
            "\u001b[K     |████████████████████████████████| 189 kB 8.0 MB/s \n",
            "\u001b[?25hRequirement already satisfied: numpy>=1.13.3 in /usr/local/lib/python3.7/dist-packages (from imbalanced-learn) (1.19.5)\n",
            "Collecting scikit-learn>=0.24\n",
            "  Downloading scikit_learn-1.0-cp37-cp37m-manylinux_2_12_x86_64.manylinux2010_x86_64.whl (23.1 MB)\n",
            "\u001b[K     |████████████████████████████████| 23.1 MB 1.2 MB/s \n",
            "\u001b[?25hRequirement already satisfied: scipy>=0.19.1 in /usr/local/lib/python3.7/dist-packages (from imbalanced-learn) (1.4.1)\n",
            "Requirement already satisfied: joblib>=0.11 in /usr/local/lib/python3.7/dist-packages (from imbalanced-learn) (1.0.1)\n",
            "Collecting threadpoolctl>=2.0.0\n",
            "  Downloading threadpoolctl-3.0.0-py3-none-any.whl (14 kB)\n",
            "Installing collected packages: threadpoolctl, scikit-learn, imbalanced-learn\n",
            "  Attempting uninstall: scikit-learn\n",
            "    Found existing installation: scikit-learn 0.22.2.post1\n",
            "    Uninstalling scikit-learn-0.22.2.post1:\n",
            "      Successfully uninstalled scikit-learn-0.22.2.post1\n",
            "  Attempting uninstall: imbalanced-learn\n",
            "    Found existing installation: imbalanced-learn 0.4.3\n",
            "    Uninstalling imbalanced-learn-0.4.3:\n",
            "      Successfully uninstalled imbalanced-learn-0.4.3\n",
            "Successfully installed imbalanced-learn-0.8.1 scikit-learn-1.0 threadpoolctl-3.0.0\n"
          ]
        }
      ]
    },
    {
      "cell_type": "code",
      "metadata": {
        "id": "BP5Ys-9kkQxs"
      },
      "source": [
        "import catboost\n",
        "import itertools\n",
        "import imblearn\n",
        "import lightgbm\n",
        "import matplotlib.pyplot as plt\n",
        "import numpy as np\n",
        "import optuna\n",
        "import pandas as pd\n",
        "import scipy\n",
        "import seaborn as sns\n",
        "import sklearn\n",
        "import sklearn.datasets\n",
        "import xgboost\n",
        "\n",
        "from sklearn.ensemble import RandomForestClassifier, BaggingClassifier, VotingClassifier, ExtraTreesClassifier\n",
        "from sklearn.linear_model import LogisticRegression, SGDClassifier\n",
        "from sklearn.tree import DecisionTreeClassifier, DecisionTreeRegressor\n",
        "from sklearn.model_selection import train_test_split, KFold, StratifiedKFold, GridSearchCV, cross_validate, cross_val_score\n",
        "from sklearn.metrics import mean_squared_error, average_precision_score\n",
        "from sklearn.neighbors import KNeighborsClassifier\n",
        "from sklearn.svm import SVC\n",
        "from sklearn.naive_bayes import GaussianNB\n",
        "from sklearn.metrics import average_precision_score, matthews_corrcoef\n",
        "from pytorch_tabnet.tab_model import TabNetRegressor"
      ],
      "execution_count": 2,
      "outputs": []
    },
    {
      "cell_type": "code",
      "metadata": {
        "colab": {
          "base_uri": "https://localhost:8080/",
          "height": 130
        },
        "id": "FIjr_s-53WcO",
        "outputId": "e3610fc1-c5a2-4e43-d89d-d7d0adb71527"
      },
      "source": [
        "from  sklearn.metrics.mean_squared_error "
      ],
      "execution_count": 3,
      "outputs": [
        {
          "output_type": "error",
          "ename": "SyntaxError",
          "evalue": "ignored",
          "traceback": [
            "\u001b[0;36m  File \u001b[0;32m\"<ipython-input-3-d647955fa0c7>\"\u001b[0;36m, line \u001b[0;32m1\u001b[0m\n\u001b[0;31m    from  sklearn.metrics.mean_squared_error\u001b[0m\n\u001b[0m                                             ^\u001b[0m\n\u001b[0;31mSyntaxError\u001b[0m\u001b[0;31m:\u001b[0m invalid syntax\n"
          ]
        }
      ]
    },
    {
      "cell_type": "markdown",
      "metadata": {
        "id": "4ME2N7u8kQxt"
      },
      "source": [
        "## Задание 1. Bias-variance trade-off<a class=\"anchor\" style=\"autocontent\" id=\"Задание-1\"/><br>"
      ]
    },
    {
      "cell_type": "markdown",
      "metadata": {
        "id": "r6Qg30ckkQxt"
      },
      "source": [
        "Продемонстрируйте bias-variance trade-off для `DecisionTreeRegressor` при изменении глубины дерева. Постройте регрессионную модель функции от одной независимой переменной, представленной в ячейке ниже, используя функцию plot_regression_predictions (можете модифицировать)."
      ]
    },
    {
      "cell_type": "code",
      "metadata": {
        "id": "OoalZfPBkQxu"
      },
      "source": [
        "np.random.seed(42)\n",
        "m = 200\n",
        "X = np.random.rand(m, 1) * 3 - 1\n",
        "y = 4 * (X - 0.5) ** 3\n",
        "y = y + np.random.randn(m, 1) / 10"
      ],
      "execution_count": 6,
      "outputs": []
    },
    {
      "cell_type": "code",
      "metadata": {
        "id": "9FChdAIzkQxv"
      },
      "source": [
        "def plot_regression_predictions(tree_reg, X, y, axes=[0, 1, -1, 1], ylabel=\"$y$\"):\n",
        "    x1 = np.linspace(axes[0], axes[1], 500).reshape(-1, 1)\n",
        "    y_pred = tree_reg.predict(x1)\n",
        "    plt.axis(axes)\n",
        "    plt.xlabel(\"$x_1$\", fontsize=18)\n",
        "    if ylabel:\n",
        "        plt.ylabel(ylabel, fontsize=18, rotation=0)\n",
        "    plt.plot(X, y, \"b.\")\n",
        "    plt.plot(x1, y_pred, \"r.-\", linewidth=2, label=r\"$\\hat{y}$\")\n",
        "    "
      ],
      "execution_count": 7,
      "outputs": []
    },
    {
      "cell_type": "code",
      "metadata": {
        "id": "c7bfM3eIkQxv",
        "colab": {
          "base_uri": "https://localhost:8080/",
          "height": 874
        },
        "outputId": "3b1b3f38-5f5b-4391-8357-cddc4846bb36"
      },
      "source": [
        "## ENTER YOUR CODE HERE ##\n",
        "for d in [5,10,20]:\n",
        "\n",
        "  tree_reg = DecisionTreeRegressor(max_depth = d, random_state = 0)\n",
        "  tree_reg = tree_reg.fit(X,y)\n",
        "  plot_regression_predictions(tree_reg, X, y)\n",
        "  plt.title('Depth ' + str(d))\n",
        "  plt.show()"
      ],
      "execution_count": 10,
      "outputs": [
        {
          "output_type": "display_data",
          "data": {
            "image/png": "[encoded data removed]",
            "text/plain": [
              "<Figure size 432x288 with 1 Axes>"
            ]
          },
          "metadata": {
            "needs_background": "light"
          }
        },
        {
          "output_type": "display_data",
          "data": {
            "image/png": "[encoded data removed]",
            "text/plain": [
              "<Figure size 432x288 with 1 Axes>"
            ]
          },
          "metadata": {
            "needs_background": "light"
          }
        },
        {
          "output_type": "display_data",
          "data": {
            "image/png": "[encoded data removed]",
            "text/plain": [
              "<Figure size 432x288 with 1 Axes>"
            ]
          },
          "metadata": {
            "needs_background": "light"
          }
        }
      ]
    },
    {
      "cell_type": "markdown",
      "metadata": {
        "id": "BAtp-klOkQxw"
      },
      "source": [
        "## Задание 2. Bootstrap<a class=\"anchor\" style=\"autocontent\" id=\"Задание-2\"/><br>"
      ]
    },
    {
      "cell_type": "markdown",
      "metadata": {
        "id": "Wl5I2Gu7kQxw"
      },
      "source": [
        "В этом задании используйте датасет breast_cancer &mdash; классический датасет для заздачи бинарной классификации. Обучите модели `DecisionTreeClassifier`, `RandomForestClassifier`, `LigthGBMClassifier`, `SVC` и `BaggingClassifier` с базовым класификатором - SVC . Параметры моделей можете оставить по умолчанию или задать сами.\n",
        "\n",
        "Для каждой модели посчитайте корреляцию Мэтьюса &mdash; мерику для оценки качества бинарной классификации, в частности, устойчивую к дисбалансу классов, (`sklearn.metrics.matthews_corrcoef`, подробнее почитать про его пользу можно [здесь](https://bmcgenomics.biomedcentral.com/articles/10.1186/s12864-019-6413-7)) для предсказанного ею класса и реального \n",
        "\n",
        "С помощью bootstrap-подхода постройте 90% доверительные интервалы для качества полученных моделей. Используйте функцию bootstrap metric из лекции.\n",
        "\n",
        "Постройте боксплоты для качества полученных моделей"
      ]
    },
    {
      "cell_type": "code",
      "metadata": {
        "id": "yxRMl9qWrah9"
      },
      "source": [
        "def bootstrap_metric(x, \n",
        "                     y,\n",
        "                     metric_fn,\n",
        "                     samples_cnt = 1000,\n",
        "                     alpha = 0.05,\n",
        "                     random_state = 42):\n",
        "    size = len(x)\n",
        "    \n",
        "    np.random.seed(random_state)\n",
        "    b_metric = np.zeros(samples_cnt)\n",
        "    for it in range(samples_cnt):\n",
        "        poses = np.random.choice(x.shape[0], size=x.shape[0], replace=True)\n",
        "        \n",
        "        x_boot = x[poses]\n",
        "        y_boot = y[poses]\n",
        "        \n",
        "        m_val = metric_fn(x_boot, y_boot)\n",
        "        b_metric[it] = m_val\n",
        "    \n",
        "    return b_metric"
      ],
      "execution_count": 14,
      "outputs": []
    },
    {
      "cell_type": "code",
      "metadata": {
        "id": "Z-ajG9j6kQxx"
      },
      "source": [
        "breast_cancer = sklearn.datasets.load_breast_cancer()\n",
        "print(breast_cancer.DESCR)"
      ],
      "execution_count": null,
      "outputs": []
    },
    {
      "cell_type": "code",
      "metadata": {
        "id": "A70vS9qXkQxx"
      },
      "source": [
        "X = breast_cancer.data\n",
        "y = breast_cancer.target\n",
        "X_train, X_test, y_train, y_test = train_test_split(X, y, random_state=42)"
      ],
      "execution_count": 12,
      "outputs": []
    },
    {
      "cell_type": "code",
      "metadata": {
        "id": "tpMBnkYoqsir"
      },
      "source": [
        "model = DecisionTreeClassifier()\n",
        "model.fit(X_train, y_train)\n",
        "y_pred = model.predict(X_test)\n",
        "qual = sklearn.metrics.matthews_corrcoef(y_pred, y_test)\n"
      ],
      "execution_count": 28,
      "outputs": []
    },
    {
      "cell_type": "code",
      "metadata": {
        "id": "HTLvYn2KkQxx"
      },
      "source": [
        "## ENTER YOUR CODE HERE ##\n",
        "boot_DT = bootstrap_metric(y_test, y_pred, metric_fn=lambda x, y: sklearn.metrics.matthews_corrcoef(y_true=x, y_pred=y),alpha = 0.1)\n"
      ],
      "execution_count": 29,
      "outputs": []
    },
    {
      "cell_type": "code",
      "metadata": {
        "id": "esGd2EkJsEUi"
      },
      "source": [
        "model = RandomForestClassifier()\n",
        "model.fit(X_train, y_train)\n",
        "y_pred = model.predict(X_test)\n",
        "qual = sklearn.metrics.matthews_corrcoef(y_pred, y_test)\n",
        "boot_RFC = bootstrap_metric(y_test, y_pred, metric_fn=lambda x, y: sklearn.metrics.matthews_corrcoef(y_true=x, y_pred=y),alpha = 0.1)"
      ],
      "execution_count": 30,
      "outputs": []
    },
    {
      "cell_type": "code",
      "metadata": {
        "id": "KrwctSVgsNMe"
      },
      "source": [
        "model = lightgbm.LGBMClassifier()\n",
        "model.fit(X_train, y_train)\n",
        "y_pred = model.predict(X_test)\n",
        "qual = sklearn.metrics.matthews_corrcoef(y_pred, y_test)\n",
        "boot_LC = bootstrap_metric(y_test, y_pred, metric_fn=lambda x, y: sklearn.metrics.matthews_corrcoef(y_true=x, y_pred=y),alpha = 0.1)"
      ],
      "execution_count": 31,
      "outputs": []
    },
    {
      "cell_type": "code",
      "metadata": {
        "id": "pFIPbbTssky5"
      },
      "source": [
        "model = SVC()\n",
        "model.fit(X_train, y_train)\n",
        "y_pred = model.predict(X_test)\n",
        "qual = sklearn.metrics.matthews_corrcoef(y_pred, y_test)\n",
        "boot_SVC = bootstrap_metric(y_test, y_pred, metric_fn=lambda x, y: sklearn.metrics.matthews_corrcoef(y_true=x, y_pred=y),alpha = 0.1)"
      ],
      "execution_count": 32,
      "outputs": []
    },
    {
      "cell_type": "code",
      "metadata": {
        "id": "W7k8nBOOssc1"
      },
      "source": [
        "model = BaggingClassifier(SVC(), \n",
        "                               n_estimators=100,\n",
        "                               random_state=42)\n",
        "model.fit(X_train, y_train)\n",
        "y_pred = model.predict(X_test)\n",
        "qual = sklearn.metrics.matthews_corrcoef(y_pred, y_test)\n",
        "boot_Bag = bootstrap_metric(y_test, y_pred, metric_fn=lambda x, y: sklearn.metrics.matthews_corrcoef(y_true=x, y_pred=y),alpha = 0.1)"
      ],
      "execution_count": 33,
      "outputs": []
    },
    {
      "cell_type": "code",
      "metadata": {
        "colab": {
          "base_uri": "https://localhost:8080/",
          "height": 388
        },
        "id": "bGy3rlzftH0-",
        "outputId": "a200b066-d850-422b-a03f-2091aaeedf0f"
      },
      "source": [
        "plt.figure(figsize=(16,6))\n",
        "sns.boxplot(y=np.concatenate([boot_DT,\n",
        "                              boot_RFC, \n",
        "                              boot_LC, \n",
        "                              boot_SVC,\n",
        "                              boot_Bag,\n",
        "                            \n",
        "                             ]),\n",
        "             x=[x for x in  ('DT', 'RFC', 'LGBC', 'SVC', \"Bagged SVC\", \n",
        "              ) for y in range(1000)])\n",
        "plt.xlabel('models')\n",
        "plt.ylabel('matthews_corrcoef')\n",
        "plt.show()"
      ],
      "execution_count": 35,
      "outputs": [
        {
          "output_type": "display_data",
          "data": {
            "image/png": "[encoded data removed]",
            "text/plain": [
              "<Figure size 1152x432 with 1 Axes>"
            ]
          },
          "metadata": {
            "needs_background": "light"
          }
        }
      ]
    },
    {
      "cell_type": "markdown",
      "metadata": {
        "id": "mg5zxuc3kQxy"
      },
      "source": [
        "## Задание 3. Обучение и подбор параметров<a class=\"anchor\" style=\"autocontent\" id=\"Задание-3\"/><br>\n"
      ]
    },
    {
      "cell_type": "markdown",
      "metadata": {
        "id": "hdXDc6pekQxy"
      },
      "source": [
        "Загрузим датасет с рецептами (состав блюд и дополнительные данные о них) и рейтинге рецептов."
      ]
    },
    {
      "cell_type": "code",
      "metadata": {
        "id": "wID9E0gDkQxy",
        "colab": {
          "base_uri": "https://localhost:8080/"
        },
        "outputId": "b0b6d707-a67f-4398-e759-b485cf55fb82"
      },
      "source": [
        "!gdown --id 1gr1WaAFZphKQxzUFIxAYqiTqRJsC-mFK -O recipes.csv"
      ],
      "execution_count": 36,
      "outputs": [
        {
          "output_type": "stream",
          "name": "stdout",
          "text": [
            "Downloading...\n",
            "From: https://drive.google.com/uc?id=1gr1WaAFZphKQxzUFIxAYqiTqRJsC-mFK\n",
            "To: /content/recipes.csv\n",
            "100% 55.3M/55.3M [00:00<00:00, 133MB/s] \n"
          ]
        }
      ]
    },
    {
      "cell_type": "code",
      "metadata": {
        "id": "ZsTaEXrakQxz",
        "colab": {
          "base_uri": "https://localhost:8080/"
        },
        "outputId": "3ab99723-137d-4eb0-f7a6-bac7e68c58fa"
      },
      "source": [
        "recipies = pd.read_csv(\"recipes.csv\")\n",
        "print(recipies.iloc[:, 0:5].head())"
      ],
      "execution_count": 37,
      "outputs": [
        {
          "output_type": "stream",
          "name": "stdout",
          "text": [
            "                                         title  rating  calories  protein   fat\n",
            "0              Lentil, Apple, and Turkey Wrap    2.500     426.0     30.0   7.0\n",
            "1  Boudin Blanc Terrine with Red Onion Confit    4.375     403.0     18.0  23.0\n",
            "2                Potato and Fennel Soup Hodge    3.750     165.0      6.0   7.0\n",
            "3             Mahi-Mahi in Tomato Olive Sauce    5.000       NaN      NaN   NaN\n",
            "4                    Spinach Noodle Casserole    3.125     547.0     20.0  32.0\n"
          ]
        }
      ]
    },
    {
      "cell_type": "code",
      "metadata": {
        "id": "nqWNWstokQxz"
      },
      "source": [
        "recipies = recipies.loc[pd.isna(recipies).sum(axis=1) == 0, :]  # remove na\n",
        "y = recipies['rating']\n",
        "X = recipies.drop([\"rating\", \"title\"], axis=1)\n",
        "X_train_all, X_test, y_train_all, y_test = train_test_split(\n",
        "    X.values, y.values, train_size=0.7, random_state=1999)"
      ],
      "execution_count": 38,
      "outputs": []
    },
    {
      "cell_type": "markdown",
      "metadata": {
        "id": "IU8Ec4y3kQxz"
      },
      "source": [
        "Постройте модель, предсказывающую рейтинг рецепта по всем имеющимся признакам.\n",
        "\n",
        "Выберите 2 модели &mdash; один случайный лес и один бустинг из приведенных ниже.\n",
        "\n",
        "1. `xgboost.XGBRegressor`\n",
        "2. `xgboost.XGBRFRegressor` &mdash; случайный лес от xgboost\n",
        "3. `lightgbm.LGBMRegressor`\n",
        "4. `lightgbm.LGBMRegressor(boosting_type=\"rf\")` &mdash; случайный лес от lightgbm\n",
        "5. `catboost.CatBoostRegressor`\n",
        "\n",
        "Кроме этого, используйте так же \n",
        "`TabNetRegressor`\n",
        "\n",
        "Для первых двух моделей попытайтесь оптимизировать их параметры, чтобы получить хорошее качество \n",
        "Для TabNetRegressor попробуйте разные значения параметров `n_a` и `n_d`. Поставьте число эпох (`max_epochs`, параметр функции `fit`) равным 30 (можете при желании подбирать и этот параметр)\n",
        "\n",
        "Сравните качество полученных моделей "
      ]
    },
    {
      "cell_type": "code",
      "metadata": {
        "id": "mfFEM1wWuPQo"
      },
      "source": [
        "?xgboost.XGBRegressor"
      ],
      "execution_count": 39,
      "outputs": []
    },
    {
      "cell_type": "code",
      "metadata": {
        "id": "YZefkaMikQxz",
        "colab": {
          "base_uri": "https://localhost:8080/",
          "height": 217
        },
        "outputId": "29719ee2-0a8e-4a10-9b7e-df5c644b6ce3"
      },
      "source": [
        "## ENTER YOUR CODE HERE ##\n",
        "\n",
        "boost_model = GridSearchCV(xgboost.XGBRegressor(verbosity=1), {'max_depth':[1, 5, 10],\n",
        "                                                    'n_estimators':[150],\n",
        "                                                    \n",
        "                                }, n_jobs=-1\n",
        "                         ).fit(X_train_all, y_train_all)\n"
      ],
      "execution_count": 45,
      "outputs": [
        {
          "output_type": "stream",
          "name": "stdout",
          "text": [
            "[11:07:23] WARNING: /workspace/src/objective/regression_obj.cu:152: reg:linear is now deprecated in favor of reg:squarederror.\n"
          ]
        },
        {
          "output_type": "error",
          "ename": "AttributeError",
          "evalue": "ignored",
          "traceback": [
            "\u001b[0;31m---------------------------------------------------------------------------\u001b[0m",
            "\u001b[0;31mAttributeError\u001b[0m                            Traceback (most recent call last)",
            "\u001b[0;32m<ipython-input-45-26b41a9eb782>\u001b[0m in \u001b[0;36m<module>\u001b[0;34m()\u001b[0m\n\u001b[1;32m      6\u001b[0m                                 }, n_jobs=-1\n\u001b[1;32m      7\u001b[0m                          ).fit(X_train_all, y_train_all)\n\u001b[0;32m----> 8\u001b[0;31m \u001b[0my_pred\u001b[0m \u001b[0;34m=\u001b[0m \u001b[0mboost_model\u001b[0m\u001b[0;34m.\u001b[0m\u001b[0mpred\u001b[0m\u001b[0;34m(\u001b[0m\u001b[0my_test\u001b[0m\u001b[0;34m)\u001b[0m\u001b[0;34m\u001b[0m\u001b[0;34m\u001b[0m\u001b[0m\n\u001b[0m",
            "\u001b[0;31mAttributeError\u001b[0m: 'GridSearchCV' object has no attribute 'pred'"
          ]
        }
      ]
    },
    {
      "cell_type": "code",
      "metadata": {
        "id": "xGChoneL2CUX"
      },
      "source": [
        "y_pred = boost_model.predict(X_test)"
      ],
      "execution_count": 51,
      "outputs": []
    },
    {
      "cell_type": "code",
      "metadata": {
        "id": "HKq4OM7kvx1w"
      },
      "source": [
        "boost_quality = mean_squared_error(y_pred, y_test)"
      ],
      "execution_count": 56,
      "outputs": []
    },
    {
      "cell_type": "code",
      "metadata": {
        "colab": {
          "base_uri": "https://localhost:8080/",
          "height": 217
        },
        "id": "wg7BPSJDwSQo",
        "outputId": "2dd72eb8-b011-4e71-c51f-2bd21f5f80ec"
      },
      "source": [
        "rf_model = GridSearchCV(xgboost.XGBRFRegressor(verbosity=0), {'max_depth':[ 3, 5, 10],\n",
        "                                                    \n",
        "                                }, n_jobs=-1\n",
        "                         ).fit(X_train_all, y_train_all)\n"
      ],
      "execution_count": 57,
      "outputs": [
        {
          "output_type": "error",
          "ename": "AttributeError",
          "evalue": "ignored",
          "traceback": [
            "\u001b[0;31m---------------------------------------------------------------------------\u001b[0m",
            "\u001b[0;31mAttributeError\u001b[0m                            Traceback (most recent call last)",
            "\u001b[0;32m<ipython-input-57-e2f1e8d0ec07>\u001b[0m in \u001b[0;36m<module>\u001b[0;34m()\u001b[0m\n\u001b[1;32m      3\u001b[0m                                 }, n_jobs=-1\n\u001b[1;32m      4\u001b[0m                          ).fit(X_train_all, y_train_all)\n\u001b[0;32m----> 5\u001b[0;31m \u001b[0my_pred_rf\u001b[0m \u001b[0;34m=\u001b[0m \u001b[0mboost_model\u001b[0m\u001b[0;34m.\u001b[0m\u001b[0mpred\u001b[0m\u001b[0;34m(\u001b[0m\u001b[0mX_test\u001b[0m\u001b[0;34m)\u001b[0m\u001b[0;34m\u001b[0m\u001b[0;34m\u001b[0m\u001b[0m\n\u001b[0m\u001b[1;32m      6\u001b[0m \u001b[0mrf_boost_quality\u001b[0m \u001b[0;34m=\u001b[0m \u001b[0mmean_squared_error\u001b[0m\u001b[0;34m(\u001b[0m\u001b[0my_pred_rf\u001b[0m\u001b[0;34m,\u001b[0m \u001b[0my_test\u001b[0m\u001b[0;34m)\u001b[0m\u001b[0;34m\u001b[0m\u001b[0;34m\u001b[0m\u001b[0m\n",
            "\u001b[0;31mAttributeError\u001b[0m: 'GridSearchCV' object has no attribute 'pred'"
          ]
        }
      ]
    },
    {
      "cell_type": "code",
      "metadata": {
        "id": "gIRRJrzd4xpY"
      },
      "source": [
        "y_pred_rf = rf_model.predict(X_test)\n",
        "rf_boost_quality = mean_squared_error(y_pred_rf, y_test)"
      ],
      "execution_count": 74,
      "outputs": []
    },
    {
      "cell_type": "code",
      "metadata": {
        "colab": {
          "base_uri": "https://localhost:8080/"
        },
        "id": "Fj8MmupU5SwY",
        "outputId": "c93f459a-6636-49b9-b50f-57bbf936bc57"
      },
      "source": [
        "for a in [8,16]:\n",
        "  \n",
        "  tab_model = TabNetRegressor(n_a=a, n_d=a)\n",
        "  tab_model.fit(X_train_all, y_train_all.reshape(-1, 1),max_epochs=10)\n",
        "  y_pred_tab = tab_model.predict(X_test)\n",
        "  tab_boost_quality = mean_squared_error(y_pred_tab, y_test)\n",
        "  print('n_a and n_d: '+str(a))\n",
        "  print(tab_boost_quality)"
      ],
      "execution_count": 63,
      "outputs": [
        {
          "output_type": "stream",
          "name": "stdout",
          "text": [
            "Device used : cpu\n",
            "No early stopping will be performed, last training weights will be used.\n",
            "epoch 0  | loss: 10.40813|  0:00:04s\n",
            "epoch 1  | loss: 3.6208  |  0:00:09s\n",
            "epoch 2  | loss: 2.04205 |  0:00:13s\n",
            "epoch 3  | loss: 1.79604 |  0:00:18s\n",
            "epoch 4  | loss: 1.68372 |  0:00:23s\n",
            "epoch 5  | loss: 1.67983 |  0:00:28s\n",
            "epoch 6  | loss: 1.66424 |  0:00:32s\n",
            "epoch 7  | loss: 1.65085 |  0:00:37s\n",
            "epoch 8  | loss: 1.64108 |  0:00:42s\n",
            "epoch 9  | loss: 1.62358 |  0:00:46s\n",
            "n_a and n_d: 8\n",
            "1.7192383333922945\n",
            "Device used : cpu\n",
            "No early stopping will be performed, last training weights will be used.\n",
            "epoch 0  | loss: 13.4353 |  0:00:05s\n",
            "epoch 1  | loss: 4.04464 |  0:00:10s\n",
            "epoch 2  | loss: 2.13479 |  0:00:15s\n",
            "epoch 3  | loss: 1.85126 |  0:00:20s\n",
            "epoch 4  | loss: 1.7494  |  0:00:25s\n",
            "epoch 5  | loss: 1.71152 |  0:00:30s\n",
            "epoch 6  | loss: 1.67417 |  0:00:35s\n",
            "epoch 7  | loss: 1.67171 |  0:00:40s\n",
            "epoch 8  | loss: 1.64366 |  0:00:46s\n",
            "epoch 9  | loss: 1.62722 |  0:00:51s\n",
            "n_a and n_d: 16\n",
            "1.7221031769399777\n"
          ]
        }
      ]
    },
    {
      "cell_type": "code",
      "metadata": {
        "colab": {
          "base_uri": "https://localhost:8080/"
        },
        "id": "nQArzUgn0Yq-",
        "outputId": "ee4d764f-075d-4906-b8de-cfd8bedd9b5f"
      },
      "source": [
        "print('XGBRegressor: ' +str(boost_quality))\n",
        "print('XGBRFRegressor: ' +str(rf_boost_quality))\n"
      ],
      "execution_count": 75,
      "outputs": [
        {
          "output_type": "stream",
          "name": "stdout",
          "text": [
            "XGBRegressor: 1.3608819206665181\n",
            "XGBRFRegressor: 1.4556041002127147\n"
          ]
        }
      ]
    },
    {
      "cell_type": "markdown",
      "metadata": {
        "id": "9Qp22GY_kQx0"
      },
      "source": [
        "Сравните качество моделей с гиперпараметрами, подобранными вручную и модели с гиперпараметрами, оптимизированной автоматически с помощью фреймворка [`optuna`](https://optuna.org/).\n",
        "\n",
        "`optuna` используется для подбора гиперпараметров различных моделей машинного обучения и встретится в этом курсе ещё неоднократно. В частности для оптимизацииградиентного бустинга `LightGBM` используется функция `optuna.integration.lightgbm.LightGBMTunerCV`. \n",
        "\n",
        "Используйте параметры, полученные при оптимизации модели с помошью `optuna.integration.lightgbm.LightGBMTunerCV` для обучения модели `LightGBM`. \n",
        "\n",
        "Сравните качество полученных моделей."
      ]
    },
    {
      "cell_type": "code",
      "metadata": {
        "id": "V7iEtCmXkQx0"
      },
      "source": [
        "?optuna.integration.lightgbm.LightGBMTunerCV()"
      ],
      "execution_count": null,
      "outputs": []
    },
    {
      "cell_type": "code",
      "metadata": {
        "id": "YEu3qJddkQx0",
        "colab": {
          "base_uri": "https://localhost:8080/"
        },
        "outputId": "93872e01-c043-429e-c0df-80af7d24590f"
      },
      "source": [
        "dtrain = optuna.integration.lightgbm.Dataset(X_train_all, label=y_train_all)\n",
        "\n",
        "params = {\n",
        "    \"objective\": \"regression\",\n",
        "    \"metric\": \"rmse\",\n",
        "    \"verbosity\": 1,\n",
        "    \"boosting_type\": \"gbdt\"}\n",
        "\n",
        "tuner = optuna.integration.lightgbm.LightGBMTunerCV(params,\n",
        "                                                    dtrain,\n",
        "                                                    verbose_eval=False,\n",
        "                                                    early_stopping_rounds=100,\n",
        "                                                    time_budget=600,\n",
        "                                                    folds=KFold(n_splits=4),\n",
        "                                                    seed=42)\n",
        "\n",
        "tuner.run()\n",
        "\n",
        "print(\"\\nBest score:\", tuner.best_score)\n",
        "best_params = tuner.best_params\n",
        "print(\"\\nBest parameters: \")\n",
        "for key, value in best_params.items():\n",
        "    print(f\"{key}: {value}\")"
      ],
      "execution_count": 65,
      "outputs": [
        {
          "output_type": "stream",
          "name": "stderr",
          "text": [
            "\u001b[32m[I 2021-10-23 11:31:54,465]\u001b[0m A new study created in memory with name: no-name-efb76ad7-2ead-4200-ae25-cd98f09be43c\u001b[0m\n",
            "feature_fraction, val_score: 1.163865:  14%|#4        | 1/7 [00:04<00:27,  4.61s/it]\u001b[32m[I 2021-10-23 11:31:59,092]\u001b[0m Trial 0 finished with value: 1.1638650101236225 and parameters: {'feature_fraction': 0.4}. Best is trial 0 with value: 1.1638650101236225.\u001b[0m\n",
            "feature_fraction, val_score: 1.163865:  29%|##8       | 2/7 [00:10<00:27,  5.45s/it]\u001b[32m[I 2021-10-23 11:32:05,135]\u001b[0m Trial 1 finished with value: 1.1642796612419513 and parameters: {'feature_fraction': 0.8}. Best is trial 0 with value: 1.1638650101236225.\u001b[0m\n",
            "feature_fraction, val_score: 1.163411:  43%|####2     | 3/7 [00:15<00:20,  5.03s/it]\u001b[32m[I 2021-10-23 11:32:09,662]\u001b[0m Trial 2 finished with value: 1.1634112597480268 and parameters: {'feature_fraction': 0.7}. Best is trial 2 with value: 1.1634112597480268.\u001b[0m\n",
            "feature_fraction, val_score: 1.163411:  57%|#####7    | 4/7 [00:20<00:15,  5.31s/it]\u001b[32m[I 2021-10-23 11:32:15,409]\u001b[0m Trial 3 finished with value: 1.1652000871558326 and parameters: {'feature_fraction': 0.6}. Best is trial 2 with value: 1.1634112597480268.\u001b[0m\n",
            "feature_fraction, val_score: 1.163411:  71%|#######1  | 5/7 [00:27<00:11,  5.59s/it]\u001b[32m[I 2021-10-23 11:32:21,506]\u001b[0m Trial 4 finished with value: 1.167108457847125 and parameters: {'feature_fraction': 1.0}. Best is trial 2 with value: 1.1634112597480268.\u001b[0m\n",
            "feature_fraction, val_score: 1.163411:  86%|########5 | 6/7 [00:31<00:05,  5.22s/it]\u001b[32m[I 2021-10-23 11:32:26,009]\u001b[0m Trial 5 finished with value: 1.1665072945905077 and parameters: {'feature_fraction': 0.8999999999999999}. Best is trial 2 with value: 1.1634112597480268.\u001b[0m\n",
            "feature_fraction, val_score: 1.161987: 100%|##########| 7/7 [00:36<00:00,  5.29s/it]\u001b[32m[I 2021-10-23 11:32:31,450]\u001b[0m Trial 6 finished with value: 1.1619871348518522 and parameters: {'feature_fraction': 0.5}. Best is trial 6 with value: 1.1619871348518522.\u001b[0m\n",
            "feature_fraction, val_score: 1.161987: 100%|##########| 7/7 [00:36<00:00,  5.28s/it]\n",
            "num_leaves, val_score: 1.161987:   5%|5         | 1/20 [00:05<01:38,  5.18s/it]\u001b[32m[I 2021-10-23 11:32:36,648]\u001b[0m Trial 7 finished with value: 1.16678501289037 and parameters: {'num_leaves': 21}. Best is trial 7 with value: 1.16678501289037.\u001b[0m\n",
            "num_leaves, val_score: 1.159794:  10%|#         | 2/20 [00:14<02:18,  7.67s/it]\u001b[32m[I 2021-10-23 11:32:46,068]\u001b[0m Trial 8 finished with value: 1.1597935466101208 and parameters: {'num_leaves': 155}. Best is trial 8 with value: 1.1597935466101208.\u001b[0m\n",
            "num_leaves, val_score: 1.156391:  15%|#5        | 3/20 [00:26<02:43,  9.61s/it]\u001b[32m[I 2021-10-23 11:32:57,986]\u001b[0m Trial 9 finished with value: 1.1563911570502998 and parameters: {'num_leaves': 221}. Best is trial 9 with value: 1.1563911570502998.\u001b[0m\n",
            "num_leaves, val_score: 1.156391:  20%|##        | 4/20 [00:33<02:19,  8.72s/it]\u001b[32m[I 2021-10-23 11:33:05,337]\u001b[0m Trial 10 finished with value: 1.1564797170925871 and parameters: {'num_leaves': 85}. Best is trial 9 with value: 1.1563911570502998.\u001b[0m\n",
            "num_leaves, val_score: 1.156312:  25%|##5       | 5/20 [00:43<02:14,  8.97s/it]\u001b[32m[I 2021-10-23 11:33:14,745]\u001b[0m Trial 11 finished with value: 1.1563124315054467 and parameters: {'num_leaves': 123}. Best is trial 11 with value: 1.1563124315054467.\u001b[0m\n",
            "num_leaves, val_score: 1.156312:  30%|###       | 6/20 [00:50<01:55,  8.22s/it]\u001b[32m[I 2021-10-23 11:33:21,500]\u001b[0m Trial 12 finished with value: 1.1582633078156517 and parameters: {'num_leaves': 81}. Best is trial 11 with value: 1.1563124315054467.\u001b[0m\n",
            "num_leaves, val_score: 1.156312:  35%|###5      | 7/20 [00:59<01:51,  8.56s/it]\u001b[32m[I 2021-10-23 11:33:30,773]\u001b[0m Trial 13 finished with value: 1.1591809806084437 and parameters: {'num_leaves': 119}. Best is trial 11 with value: 1.1563124315054467.\u001b[0m\n",
            "num_leaves, val_score: 1.156031:  40%|####      | 8/20 [01:11<01:56,  9.67s/it]\u001b[32m[I 2021-10-23 11:33:42,817]\u001b[0m Trial 14 finished with value: 1.1560307130815826 and parameters: {'num_leaves': 227}. Best is trial 14 with value: 1.1560307130815826.\u001b[0m\n",
            "num_leaves, val_score: 1.156031:  45%|####5     | 9/20 [01:22<01:51, 10.14s/it]\u001b[32m[I 2021-10-23 11:33:53,978]\u001b[0m Trial 15 finished with value: 1.1565338824442044 and parameters: {'num_leaves': 214}. Best is trial 14 with value: 1.1560307130815826.\u001b[0m\n",
            "num_leaves, val_score: 1.156031:  50%|#####     | 10/20 [01:33<01:43, 10.33s/it]\u001b[32m[I 2021-10-23 11:34:04,729]\u001b[0m Trial 16 finished with value: 1.1602822806298534 and parameters: {'num_leaves': 145}. Best is trial 14 with value: 1.1560307130815826.\u001b[0m\n",
            "num_leaves, val_score: 1.153839:  55%|#####5    | 11/20 [01:46<01:41, 11.23s/it]\u001b[32m[I 2021-10-23 11:34:18,013]\u001b[0m Trial 17 finished with value: 1.1538393791123756 and parameters: {'num_leaves': 250}. Best is trial 17 with value: 1.1538393791123756.\u001b[0m\n",
            "num_leaves, val_score: 1.153839:  60%|######    | 12/20 [01:59<01:33, 11.72s/it]\u001b[32m[I 2021-10-23 11:34:30,840]\u001b[0m Trial 18 finished with value: 1.1562645120143555 and parameters: {'num_leaves': 248}. Best is trial 17 with value: 1.1538393791123756.\u001b[0m\n",
            "num_leaves, val_score: 1.153839:  65%|######5   | 13/20 [02:11<01:23, 11.86s/it]\u001b[32m[I 2021-10-23 11:34:43,042]\u001b[0m Trial 19 finished with value: 1.1566440902341852 and parameters: {'num_leaves': 194}. Best is trial 17 with value: 1.1538393791123756.\u001b[0m\n",
            "num_leaves, val_score: 1.153839:  70%|#######   | 14/20 [02:23<01:11, 11.96s/it]\u001b[32m[I 2021-10-23 11:34:55,239]\u001b[0m Trial 20 finished with value: 1.1568117747742845 and parameters: {'num_leaves': 253}. Best is trial 17 with value: 1.1538393791123756.\u001b[0m\n",
            "num_leaves, val_score: 1.153839:  75%|#######5  | 15/20 [02:35<00:59, 11.94s/it]\u001b[32m[I 2021-10-23 11:35:07,116]\u001b[0m Trial 21 finished with value: 1.1547457363186489 and parameters: {'num_leaves': 173}. Best is trial 17 with value: 1.1538393791123756.\u001b[0m\n",
            "num_leaves, val_score: 1.153839:  80%|########  | 16/20 [02:46<00:45, 11.48s/it]\u001b[32m[I 2021-10-23 11:35:17,547]\u001b[0m Trial 22 finished with value: 1.1587856396856764 and parameters: {'num_leaves': 182}. Best is trial 17 with value: 1.1538393791123756.\u001b[0m\n",
            "num_leaves, val_score: 1.153839:  85%|########5 | 17/20 [02:56<00:33, 11.28s/it]\u001b[32m[I 2021-10-23 11:35:28,350]\u001b[0m Trial 23 finished with value: 1.1585189447542406 and parameters: {'num_leaves': 174}. Best is trial 17 with value: 1.1538393791123756.\u001b[0m\n",
            "num_leaves, val_score: 1.153839:  90%|######### | 18/20 [03:01<00:18,  9.22s/it]\u001b[32m[I 2021-10-23 11:35:32,778]\u001b[0m Trial 24 finished with value: 1.1808287714981127 and parameters: {'num_leaves': 2}. Best is trial 17 with value: 1.1538393791123756.\u001b[0m\n",
            "num_leaves, val_score: 1.153839:  95%|#########5| 19/20 [03:08<00:08,  8.63s/it]\u001b[32m[I 2021-10-23 11:35:40,025]\u001b[0m Trial 25 finished with value: 1.1580204989479053 and parameters: {'num_leaves': 73}. Best is trial 17 with value: 1.1538393791123756.\u001b[0m\n",
            "num_leaves, val_score: 1.153839: 100%|##########| 20/20 [03:19<00:00,  9.26s/it]\u001b[32m[I 2021-10-23 11:35:50,742]\u001b[0m Trial 26 finished with value: 1.1567220308329356 and parameters: {'num_leaves': 197}. Best is trial 17 with value: 1.1538393791123756.\u001b[0m\n",
            "num_leaves, val_score: 1.153839: 100%|##########| 20/20 [03:19<00:00,  9.96s/it]\n",
            "bagging, val_score: 1.153839:  10%|#         | 1/10 [00:13<02:00, 13.42s/it]\u001b[32m[I 2021-10-23 11:36:04,174]\u001b[0m Trial 27 finished with value: 1.157742832091237 and parameters: {'bagging_fraction': 0.9802360125840942, 'bagging_freq': 1}. Best is trial 27 with value: 1.157742832091237.\u001b[0m\n",
            "bagging, val_score: 1.153839:  20%|##        | 2/10 [00:20<01:17,  9.68s/it]\u001b[32m[I 2021-10-23 11:36:11,248]\u001b[0m Trial 28 finished with value: 1.1739134706213443 and parameters: {'bagging_fraction': 0.5152128747076183, 'bagging_freq': 3}. Best is trial 27 with value: 1.157742832091237.\u001b[0m\n",
            "bagging, val_score: 1.153839:  30%|###       | 3/10 [00:31<01:10, 10.12s/it]\u001b[32m[I 2021-10-23 11:36:21,888]\u001b[0m Trial 29 finished with value: 1.16859622363104 and parameters: {'bagging_fraction': 0.6869364788366105, 'bagging_freq': 6}. Best is trial 27 with value: 1.157742832091237.\u001b[0m\n",
            "bagging, val_score: 1.153839:  40%|####      | 4/10 [00:38<00:53,  8.92s/it]\u001b[32m[I 2021-10-23 11:36:28,971]\u001b[0m Trial 30 finished with value: 1.1749158998827842 and parameters: {'bagging_fraction': 0.5479283508811917, 'bagging_freq': 7}. Best is trial 27 with value: 1.157742832091237.\u001b[0m\n",
            "bagging, val_score: 1.153839:  50%|#####     | 5/10 [00:46<00:42,  8.59s/it]\u001b[32m[I 2021-10-23 11:36:36,978]\u001b[0m Trial 31 finished with value: 1.1686643816746576 and parameters: {'bagging_fraction': 0.6114711192707806, 'bagging_freq': 4}. Best is trial 27 with value: 1.157742832091237.\u001b[0m\n",
            "bagging, val_score: 1.153839:  60%|######    | 6/10 [00:56<00:37,  9.33s/it]\u001b[32m[I 2021-10-23 11:36:47,746]\u001b[0m Trial 32 finished with value: 1.1619860331454124 and parameters: {'bagging_fraction': 0.7920606995848336, 'bagging_freq': 7}. Best is trial 27 with value: 1.157742832091237.\u001b[0m\n",
            "bagging, val_score: 1.153839:  70%|#######   | 7/10 [01:06<00:27,  9.26s/it]\u001b[32m[I 2021-10-23 11:36:56,878]\u001b[0m Trial 33 finished with value: 1.1709375739917425 and parameters: {'bagging_fraction': 0.6706051020787593, 'bagging_freq': 5}. Best is trial 27 with value: 1.157742832091237.\u001b[0m\n",
            "bagging, val_score: 1.153839:  80%|########  | 8/10 [01:16<00:19,  9.62s/it]\u001b[32m[I 2021-10-23 11:37:07,250]\u001b[0m Trial 34 finished with value: 1.159580835250173 and parameters: {'bagging_fraction': 0.7466595163610247, 'bagging_freq': 7}. Best is trial 27 with value: 1.157742832091237.\u001b[0m\n",
            "bagging, val_score: 1.153839:  90%|######### | 9/10 [01:25<00:09,  9.45s/it]\u001b[32m[I 2021-10-23 11:37:16,332]\u001b[0m Trial 35 finished with value: 1.1671356779445807 and parameters: {'bagging_fraction': 0.6767129833812806, 'bagging_freq': 5}. Best is trial 27 with value: 1.157742832091237.\u001b[0m\n",
            "bagging, val_score: 1.153839: 100%|##########| 10/10 [01:38<00:00, 10.52s/it]\u001b[32m[I 2021-10-23 11:37:29,239]\u001b[0m Trial 36 finished with value: 1.1604513566673575 and parameters: {'bagging_fraction': 0.9204293698691517, 'bagging_freq': 6}. Best is trial 27 with value: 1.157742832091237.\u001b[0m\n",
            "bagging, val_score: 1.153839: 100%|##########| 10/10 [01:38<00:00,  9.85s/it]\n",
            "feature_fraction_stage2, val_score: 1.153839:  17%|#6        | 1/6 [00:12<01:01, 12.30s/it]\u001b[32m[I 2021-10-23 11:37:41,555]\u001b[0m Trial 37 finished with value: 1.1544444708472534 and parameters: {'feature_fraction': 0.516}. Best is trial 37 with value: 1.1544444708472534.\u001b[0m\n",
            "feature_fraction_stage2, val_score: 1.153839:  33%|###3      | 2/6 [00:23<00:47, 11.93s/it]\u001b[32m[I 2021-10-23 11:37:53,233]\u001b[0m Trial 38 finished with value: 1.155426865220806 and parameters: {'feature_fraction': 0.45199999999999996}. Best is trial 37 with value: 1.1544444708472534.\u001b[0m\n",
            "feature_fraction_stage2, val_score: 1.153839:  50%|#####     | 3/6 [00:37<00:37, 12.45s/it]\u001b[32m[I 2021-10-23 11:38:06,293]\u001b[0m Trial 39 finished with value: 1.1559559642740016 and parameters: {'feature_fraction': 0.42}. Best is trial 37 with value: 1.1544444708472534.\u001b[0m\n",
            "feature_fraction_stage2, val_score: 1.151996:  67%|######6   | 4/6 [00:48<00:24, 12.26s/it]\u001b[32m[I 2021-10-23 11:38:18,251]\u001b[0m Trial 40 finished with value: 1.1519962226307445 and parameters: {'feature_fraction': 0.484}. Best is trial 40 with value: 1.1519962226307445.\u001b[0m\n",
            "feature_fraction_stage2, val_score: 1.151996:  83%|########3 | 5/6 [01:02<00:12, 12.74s/it]\u001b[32m[I 2021-10-23 11:38:31,845]\u001b[0m Trial 41 finished with value: 1.1580167820383012 and parameters: {'feature_fraction': 0.5479999999999999}. Best is trial 40 with value: 1.1519962226307445.\u001b[0m\n",
            "feature_fraction_stage2, val_score: 1.151996: 100%|##########| 6/6 [01:16<00:00, 12.98s/it]\u001b[32m[I 2021-10-23 11:38:45,285]\u001b[0m Trial 42 finished with value: 1.1602156595911557 and parameters: {'feature_fraction': 0.58}. Best is trial 40 with value: 1.1519962226307445.\u001b[0m\n",
            "feature_fraction_stage2, val_score: 1.151996: 100%|##########| 6/6 [01:16<00:00, 12.67s/it]\n",
            "regularization_factors, val_score: 1.151996:   5%|5         | 1/20 [00:11<03:44, 11.83s/it]\u001b[32m[I 2021-10-23 11:38:57,132]\u001b[0m Trial 43 finished with value: 1.156741929284114 and parameters: {'lambda_l1': 0.00010004572243999745, 'lambda_l2': 0.018224077904315183}. Best is trial 43 with value: 1.156741929284114.\u001b[0m\n",
            "regularization_factors, val_score: 1.151996:  10%|#         | 2/20 [00:25<03:49, 12.77s/it]\u001b[32m[I 2021-10-23 11:39:10,561]\u001b[0m Trial 44 finished with value: 1.1543296607477096 and parameters: {'lambda_l1': 8.642884400514725e-07, 'lambda_l2': 6.263443761182852}. Best is trial 44 with value: 1.1543296607477096.\u001b[0m\n",
            "regularization_factors, val_score: 1.151996:  15%|#5        | 3/20 [00:38<03:37, 12.77s/it]\u001b[32m[I 2021-10-23 11:39:23,323]\u001b[0m Trial 45 finished with value: 1.155741524089619 and parameters: {'lambda_l1': 6.615473391805229e-06, 'lambda_l2': 0.19007607585725234}. Best is trial 44 with value: 1.1543296607477096.\u001b[0m\n",
            "regularization_factors, val_score: 1.151996:  20%|##        | 4/20 [00:47<03:01, 11.31s/it]\u001b[32m[I 2021-10-23 11:39:32,405]\u001b[0m Trial 46 finished with value: 1.1602574670415091 and parameters: {'lambda_l1': 1.447422318481812, 'lambda_l2': 6.318947605427922e-08}. Best is trial 44 with value: 1.1543296607477096.\u001b[0m\n",
            "regularization_factors, val_score: 1.151996:  25%|##5       | 5/20 [00:59<02:54, 11.62s/it]\u001b[32m[I 2021-10-23 11:39:44,560]\u001b[0m Trial 47 finished with value: 1.156016307204953 and parameters: {'lambda_l1': 2.1115969581518967e-07, 'lambda_l2': 0.017624279803556905}. Best is trial 44 with value: 1.1543296607477096.\u001b[0m\n",
            "regularization_factors, val_score: 1.151996:  30%|###       | 6/20 [01:09<02:33, 10.98s/it]\u001b[32m[I 2021-10-23 11:39:54,315]\u001b[0m Trial 48 finished with value: 1.1593450222211579 and parameters: {'lambda_l1': 0.3113026844903044, 'lambda_l2': 0.0015286622218583668}. Best is trial 44 with value: 1.1543296607477096.\u001b[0m\n",
            "regularization_factors, val_score: 1.151996:  35%|###5      | 7/20 [01:21<02:28, 11.45s/it]\u001b[32m[I 2021-10-23 11:40:06,711]\u001b[0m Trial 49 finished with value: 1.1564946733652695 and parameters: {'lambda_l1': 0.0001256998868796147, 'lambda_l2': 1.8355405059996708e-08}. Best is trial 44 with value: 1.1543296607477096.\u001b[0m\n",
            "regularization_factors, val_score: 1.151996:  40%|####      | 8/20 [01:32<02:14, 11.20s/it]\u001b[32m[I 2021-10-23 11:40:17,392]\u001b[0m Trial 50 finished with value: 1.1592855917376559 and parameters: {'lambda_l1': 0.13557535141069577, 'lambda_l2': 0.012711792179454591}. Best is trial 44 with value: 1.1543296607477096.\u001b[0m\n",
            "regularization_factors, val_score: 1.151996:  45%|####5     | 9/20 [01:43<02:04, 11.34s/it]\u001b[32m[I 2021-10-23 11:40:29,035]\u001b[0m Trial 51 finished with value: 1.1567219514526386 and parameters: {'lambda_l1': 0.00013229063110223918, 'lambda_l2': 0.15981064303775852}. Best is trial 44 with value: 1.1543296607477096.\u001b[0m\n",
            "regularization_factors, val_score: 1.151996:  50%|#####     | 10/20 [01:55<01:55, 11.56s/it]\u001b[32m[I 2021-10-23 11:40:41,073]\u001b[0m Trial 52 finished with value: 1.1565135645497628 and parameters: {'lambda_l1': 3.50836611468468e-05, 'lambda_l2': 0.006944470580235745}. Best is trial 44 with value: 1.1543296607477096.\u001b[0m\n",
            "regularization_factors, val_score: 1.151996:  55%|#####5    | 11/20 [02:07<01:44, 11.62s/it]\u001b[32m[I 2021-10-23 11:40:52,830]\u001b[0m Trial 53 finished with value: 1.1571515738065403 and parameters: {'lambda_l1': 1.1882858594408176e-08, 'lambda_l2': 4.008850992565775}. Best is trial 44 with value: 1.1543296607477096.\u001b[0m\n",
            "regularization_factors, val_score: 1.151996:  60%|######    | 12/20 [02:20<01:36, 12.03s/it]\u001b[32m[I 2021-10-23 11:41:05,820]\u001b[0m Trial 54 finished with value: 1.1575153197679622 and parameters: {'lambda_l1': 1.9528138223930975e-06, 'lambda_l2': 9.21988401572815}. Best is trial 44 with value: 1.1543296607477096.\u001b[0m\n",
            "regularization_factors, val_score: 1.151996:  65%|######5   | 13/20 [02:32<01:24, 12.06s/it]\u001b[32m[I 2021-10-23 11:41:17,951]\u001b[0m Trial 55 finished with value: 1.1564010380876397 and parameters: {'lambda_l1': 1.6206588802686858e-06, 'lambda_l2': 1.4218581518432078e-05}. Best is trial 44 with value: 1.1543296607477096.\u001b[0m\n",
            "regularization_factors, val_score: 1.151996:  70%|#######   | 14/20 [02:43<01:10, 11.79s/it]\u001b[32m[I 2021-10-23 11:41:29,128]\u001b[0m Trial 56 finished with value: 1.1569124354682563 and parameters: {'lambda_l1': 0.006417517796990933, 'lambda_l2': 0.4395812400122163}. Best is trial 44 with value: 1.1543296607477096.\u001b[0m\n",
            "regularization_factors, val_score: 1.151996:  75%|#######5  | 15/20 [02:56<01:00, 12.07s/it]\u001b[32m[I 2021-10-23 11:41:41,823]\u001b[0m Trial 57 finished with value: 1.1553912620447793 and parameters: {'lambda_l1': 2.6674663545148618e-06, 'lambda_l2': 9.15252928822877e-06}. Best is trial 44 with value: 1.1543296607477096.\u001b[0m\n",
            "regularization_factors, val_score: 1.151996:  80%|########  | 16/20 [03:08<00:48, 12.12s/it]\u001b[32m[I 2021-10-23 11:41:54,050]\u001b[0m Trial 58 finished with value: 1.1545050378854467 and parameters: {'lambda_l1': 5.6595477748665054e-08, 'lambda_l2': 1.3140190781901578e-05}. Best is trial 44 with value: 1.1543296607477096.\u001b[0m\n",
            "regularization_factors, val_score: 1.151996:  85%|########5 | 17/20 [03:20<00:36, 12.13s/it]\u001b[32m[I 2021-10-23 11:42:06,227]\u001b[0m Trial 59 finished with value: 1.1541647690131982 and parameters: {'lambda_l1': 2.5838906217483548e-08, 'lambda_l2': 0.00010888685310518971}. Best is trial 59 with value: 1.1541647690131982.\u001b[0m\n",
            "regularization_factors, val_score: 1.151996:  85%|########5 | 17/20 [03:20<00:35, 11.82s/it]\n",
            "  0%|          | 0/5 [00:00<?, ?it/s]"
          ]
        },
        {
          "output_type": "stream",
          "name": "stdout",
          "text": [
            "\n",
            "Best score: 1.1519962226307445\n",
            "\n",
            "Best parameters: \n",
            "objective: regression\n",
            "metric: rmse\n",
            "verbosity: 1\n",
            "boosting_type: gbdt\n",
            "feature_pre_filter: False\n",
            "lambda_l1: 0.0\n",
            "lambda_l2: 0.0\n",
            "num_leaves: 250\n",
            "feature_fraction: 0.484\n",
            "bagging_fraction: 1.0\n",
            "bagging_freq: 0\n",
            "min_child_samples: 20\n"
          ]
        },
        {
          "output_type": "stream",
          "name": "stderr",
          "text": [
            "\n"
          ]
        }
      ]
    },
    {
      "cell_type": "code",
      "metadata": {
        "colab": {
          "base_uri": "https://localhost:8080/"
        },
        "id": "v66fTTi29jd7",
        "outputId": "b4a1a3ba-1dba-44f7-b038-2d82afbe893a"
      },
      "source": [
        "model"
      ],
      "execution_count": 67,
      "outputs": [
        {
          "output_type": "execute_result",
          "data": {
            "text/plain": [
              "LGBMRegressor(boosting_type={'bagging_fraction': 1.0, 'bagging_freq': 0,\n",
              "                             'boosting_type': 'gbdt', 'feature_fraction': 0.484,\n",
              "                             'feature_pre_filter': False, 'lambda_l1': 0.0,\n",
              "                             'lambda_l2': 0.0, 'metric': 'rmse',\n",
              "                             'min_child_samples': 20, 'num_leaves': 250,\n",
              "                             'objective': 'regression', 'verbosity': 1})"
            ]
          },
          "metadata": {},
          "execution_count": 67
        }
      ]
    },
    {
      "cell_type": "code",
      "metadata": {
        "colab": {
          "base_uri": "https://localhost:8080/"
        },
        "id": "4ggN2qBO9oZK",
        "outputId": "32dce5f5-611e-424f-a73b-40724673c7c3"
      },
      "source": [
        "y_train_all"
      ],
      "execution_count": 69,
      "outputs": [
        {
          "output_type": "execute_result",
          "data": {
            "text/plain": [
              "array([5.   , 5.   , 5.   , ..., 0.   , 3.75 , 4.375])"
            ]
          },
          "metadata": {},
          "execution_count": 69
        }
      ]
    },
    {
      "cell_type": "code",
      "metadata": {
        "id": "pdmUqv-rkQx1",
        "colab": {
          "base_uri": "https://localhost:8080/"
        },
        "outputId": "4223776b-14b5-4ff0-bd47-81af98b35748"
      },
      "source": [
        "## ENTER YOUR CODE HERE ##\n",
        "\n",
        "model = lightgbm.LGBMRegressor(bagging_fraction=1.0, bagging_freq=0,\n",
        "                             boosting_type='gbdt', feature_fraction=0.484,\n",
        "                             feature_pre_filter=False, lambda_l1=0.0,\n",
        "                             lambda_l2=0.0, metric='rmse',\n",
        "                             min_child_samples=20, num_leaves=250,\n",
        "                            )\n",
        "model.fit(X_train_all, y_train_all)\n",
        "y_pred_optuna = model.predict(X_test)\n",
        "\n",
        "optuna_quality = mean_squared_error(y_pred_optuna, y_test)\n",
        "print(optuna_quality)"
      ],
      "execution_count": 71,
      "outputs": [
        {
          "output_type": "stream",
          "name": "stdout",
          "text": [
            "1.376212721774135\n"
          ]
        }
      ]
    },
    {
      "cell_type": "markdown",
      "metadata": {
        "id": "NtIgcC_Y-WpO"
      },
      "source": [
        "ВЫВОД: XGBRegressor с вручную подобранными параметрами оказался самым лучшим (испоьзовалась RMSE). Чуть хуже был LGBMRegressor с параметрами, подобранными optuna"
      ]
    },
    {
      "cell_type": "code",
      "metadata": {
        "id": "jgEUiX3--Vpi"
      },
      "source": [
        ""
      ],
      "execution_count": null,
      "outputs": []
    },
    {
      "cell_type": "markdown",
      "metadata": {
        "id": "KDyhyttMkQx1"
      },
      "source": [
        "## Задание 4. Дисбаланс классов<a class=\"anchor\" style=\"autocontent\" id=\"Задание-4\"/><br>"
      ]
    },
    {
      "cell_type": "markdown",
      "metadata": {
        "id": "gtohH6S0kQx1"
      },
      "source": [
        "Загрузим датасет с различными биомаркерами пациентов с меланомой (обезличенный, информации о прациентах нет) и переменной, содержащей 1, если пациент ответил на иммунотерапию (терапия помогла пациенту и произошло уменьшении размеров опухоли) и 0, если не ответил. Количество пациентов, отвечающих на терапию сильно меньше пациентов, которым терапия не помогает, поэтому предсказание ответа пациента на терапию на основании биомаркеров &mdash; актуальная задача в онкологии. В данном задании вам предстоит попробовать её решить. "
      ]
    },
    {
      "cell_type": "code",
      "metadata": {
        "id": "QVFjRFh0kQx1",
        "colab": {
          "base_uri": "https://localhost:8080/"
        },
        "outputId": "70d48bf5-7911-43e8-ef37-df8e556d6901"
      },
      "source": [
        "!gdown --id 1yUxyIEyNNHHUyWAT0mLTFTaLx5slPG01 -O Cancer_dataset_2.tsv"
      ],
      "execution_count": 76,
      "outputs": [
        {
          "output_type": "stream",
          "name": "stdout",
          "text": [
            "Downloading...\n",
            "From: https://drive.google.com/uc?id=1yUxyIEyNNHHUyWAT0mLTFTaLx5slPG01\n",
            "To: /content/Cancer_dataset_2.tsv\n",
            "\r  0% 0.00/62.3k [00:00<?, ?B/s]\r100% 62.3k/62.3k [00:00<00:00, 24.7MB/s]\n"
          ]
        }
      ]
    },
    {
      "cell_type": "code",
      "metadata": {
        "id": "w3eM83TmkQx1",
        "colab": {
          "base_uri": "https://localhost:8080/",
          "height": 324
        },
        "outputId": "d6b26898-8e9e-4f1a-a37a-6401c3ead4d7"
      },
      "source": [
        "cancer = pd.read_table(\"/content/Cancer_dataset_2.tsv\", index_col='sample_id')\n",
        "display(cancer.head())\n",
        "\n",
        "# split the data on features (x) and dependant variable (y)\n",
        "y = cancer['Response']\n",
        "x = cancer.drop('Response', axis=1)\n",
        "print('\\nNumber of patints responded to immunotherapy:')\n",
        "display(y.value_counts())"
      ],
      "execution_count": 77,
      "outputs": [
        {
          "output_type": "display_data",
          "data": {
            "text/html": [
              "<div>\n",
              "<style scoped>\n",
              "    .dataframe tbody tr th:only-of-type {\n",
              "        vertical-align: middle;\n",
              "    }\n",
              "\n",
              "    .dataframe tbody tr th {\n",
              "        vertical-align: top;\n",
              "    }\n",
              "\n",
              "    .dataframe thead th {\n",
              "        text-align: right;\n",
              "    }\n",
              "</style>\n",
              "<table border=\"1\" class=\"dataframe\">\n",
              "  <thead>\n",
              "    <tr style=\"text-align: right;\">\n",
              "      <th></th>\n",
              "      <th>IgG1/IgA</th>\n",
              "      <th>IL21</th>\n",
              "      <th>CXCL9</th>\n",
              "      <th>CXCL10</th>\n",
              "      <th>CD8A</th>\n",
              "      <th>GZMB</th>\n",
              "      <th>KLRC2</th>\n",
              "      <th>KLRC3</th>\n",
              "      <th>KLRC4</th>\n",
              "      <th>GNLY</th>\n",
              "      <th>TGFB1</th>\n",
              "      <th>Response</th>\n",
              "    </tr>\n",
              "    <tr>\n",
              "      <th>sample_id</th>\n",
              "      <th></th>\n",
              "      <th></th>\n",
              "      <th></th>\n",
              "      <th></th>\n",
              "      <th></th>\n",
              "      <th></th>\n",
              "      <th></th>\n",
              "      <th></th>\n",
              "      <th></th>\n",
              "      <th></th>\n",
              "      <th></th>\n",
              "      <th></th>\n",
              "    </tr>\n",
              "  </thead>\n",
              "  <tbody>\n",
              "    <tr>\n",
              "      <th>SAM4b0175e8db6e</th>\n",
              "      <td>3.242746</td>\n",
              "      <td>0.001280</td>\n",
              "      <td>-0.002986</td>\n",
              "      <td>-0.036366</td>\n",
              "      <td>0.096658</td>\n",
              "      <td>0.063467</td>\n",
              "      <td>0.502058</td>\n",
              "      <td>-0.083862</td>\n",
              "      <td>0.053659</td>\n",
              "      <td>0.091930</td>\n",
              "      <td>61.934119</td>\n",
              "      <td>0</td>\n",
              "    </tr>\n",
              "    <tr>\n",
              "      <th>SAMd215b503f99a</th>\n",
              "      <td>2.139016</td>\n",
              "      <td>-0.000089</td>\n",
              "      <td>0.030495</td>\n",
              "      <td>0.243958</td>\n",
              "      <td>0.161128</td>\n",
              "      <td>0.565798</td>\n",
              "      <td>-0.203495</td>\n",
              "      <td>-0.026902</td>\n",
              "      <td>-0.035405</td>\n",
              "      <td>0.030125</td>\n",
              "      <td>103.265837</td>\n",
              "      <td>0</td>\n",
              "    </tr>\n",
              "    <tr>\n",
              "      <th>SAM7fb6987514a4</th>\n",
              "      <td>12.614972</td>\n",
              "      <td>0.008103</td>\n",
              "      <td>0.502043</td>\n",
              "      <td>0.530783</td>\n",
              "      <td>0.388455</td>\n",
              "      <td>0.528142</td>\n",
              "      <td>-0.156209</td>\n",
              "      <td>0.001147</td>\n",
              "      <td>-0.028690</td>\n",
              "      <td>0.260703</td>\n",
              "      <td>53.552817</td>\n",
              "      <td>0</td>\n",
              "    </tr>\n",
              "    <tr>\n",
              "      <th>SAMd636e3461955</th>\n",
              "      <td>6.365973</td>\n",
              "      <td>-0.000139</td>\n",
              "      <td>0.024035</td>\n",
              "      <td>0.115127</td>\n",
              "      <td>0.084455</td>\n",
              "      <td>0.200038</td>\n",
              "      <td>-0.387373</td>\n",
              "      <td>-0.057837</td>\n",
              "      <td>0.045938</td>\n",
              "      <td>0.073192</td>\n",
              "      <td>80.837318</td>\n",
              "      <td>0</td>\n",
              "    </tr>\n",
              "    <tr>\n",
              "      <th>SAMc0da5d48686d</th>\n",
              "      <td>2.764089</td>\n",
              "      <td>0.006107</td>\n",
              "      <td>0.015533</td>\n",
              "      <td>0.135470</td>\n",
              "      <td>0.067686</td>\n",
              "      <td>0.053499</td>\n",
              "      <td>-0.116040</td>\n",
              "      <td>0.063714</td>\n",
              "      <td>0.088201</td>\n",
              "      <td>0.082940</td>\n",
              "      <td>114.422926</td>\n",
              "      <td>0</td>\n",
              "    </tr>\n",
              "  </tbody>\n",
              "</table>\n",
              "</div>"
            ],
            "text/plain": [
              "                  IgG1/IgA      IL21     CXCL9  ...      GNLY       TGFB1  Response\n",
              "sample_id                                       ...                                \n",
              "SAM4b0175e8db6e   3.242746  0.001280 -0.002986  ...  0.091930   61.934119         0\n",
              "SAMd215b503f99a   2.139016 -0.000089  0.030495  ...  0.030125  103.265837         0\n",
              "SAM7fb6987514a4  12.614972  0.008103  0.502043  ...  0.260703   53.552817         0\n",
              "SAMd636e3461955   6.365973 -0.000139  0.024035  ...  0.073192   80.837318         0\n",
              "SAMc0da5d48686d   2.764089  0.006107  0.015533  ...  0.082940  114.422926         0\n",
              "\n",
              "[5 rows x 12 columns]"
            ]
          },
          "metadata": {}
        },
        {
          "output_type": "stream",
          "name": "stdout",
          "text": [
            "\n",
            "Number of patints responded to immunotherapy:\n"
          ]
        },
        {
          "output_type": "display_data",
          "data": {
            "text/plain": [
              "0    228\n",
              "1     37\n",
              "Name: Response, dtype: int64"
            ]
          },
          "metadata": {}
        }
      ]
    },
    {
      "cell_type": "markdown",
      "metadata": {
        "id": "-dF9886pkQx1"
      },
      "source": [
        "В данном случае имеет место несбалансированность классов в наборе данных: пациентов, ответивших на терапию, гораздо меньше.\n",
        "\n",
        "Есть два способа работы с несбалансированными по классам данными. Первый способ &mdash; это получение стратифицированных выборок. Необходимо иметь одинаковую долю образцов каждого класса в тренировочной и тестовой выборках, иначе возникает риск получения смещённых выборок, что приводит к некорректной оценке качества модели. Второй способ &mdash; это использование специальных алгоритмов, учитывающих несбалансированность классов.\n",
        "\n",
        "Различные оценки эффективности модели также могут быть чувствительны к несбалансированным классам. Например, ROC-кривые склонны переоценивать эффективность модели при дисбалансе классов. В таком случае рекомендуется использовать кривые Precision-Recall (PR).\n",
        "\n",
        "В данном задании вам нужно продемонстрировать эффективность различных подходов  работы с несбалансированными выборками. Для этого вы будете использовать три модели, представленные ниже: \n",
        "\n",
        "1. `RandomForestClassifier`, библиотека sklearn\n",
        "2. `RandomForestClassifier с балансировкой классов`, библиотека sklearn  - меняет стандартный вес каждого класса, равный 1, на долю класса во входных данных.\n",
        "3. `BalancedRandomForestClassifier`, библиотека imblearn - сэмплирует псевдовыборки таким образом, что в каждой псевдовыборке, которая подается на вход модели, баланс классов оказывается \"выправлен\".\n",
        "\n",
        "Оцените эффективность подходов с помощью кросс-валидации, производя разбиение с учетом репрезентации классов и без него. В качестве метрики, отображающей эффективность модели, используйте значения `roc_auc` и `pr_auc`. Проинтерпретируйте результаты."
      ]
    },
    {
      "cell_type": "code",
      "metadata": {
        "id": "clUGzR4H-3QH"
      },
      "source": [
        ""
      ],
      "execution_count": null,
      "outputs": []
    },
    {
      "cell_type": "code",
      "metadata": {
        "colab": {
          "base_uri": "https://localhost:8080/"
        },
        "id": "w3qGpB9g8uh9",
        "outputId": "c242d9da-22ee-4dc1-ee52-73e145c5943a"
      },
      "source": [
        "model1 = RandomForestClassifier()\n",
        "kf = KFold(n_splits=5)\n",
        "\n",
        "scores_RF_roc = cross_val_score(model1, x, y, cv=kf.get_n_splits(x, y), scoring='roc_auc')\n",
        "print(\"%0.2f roc_auc with a standard deviation of %0.2f\" % (scores_RF_roc.mean(), scores_RF_roc.std()))\n"
      ],
      "execution_count": 118,
      "outputs": [
        {
          "output_type": "stream",
          "name": "stdout",
          "text": [
            "0.69 roc_auc with a standard deviation of 0.07\n"
          ]
        }
      ]
    },
    {
      "cell_type": "code",
      "metadata": {
        "colab": {
          "base_uri": "https://localhost:8080/"
        },
        "id": "Wmu0n_jo_l_f",
        "outputId": "b3f1cab8-5613-488a-eb89-e69a5ddc9848"
      },
      "source": [
        "scores = cross_val_score(model1, x, y, cv=kf.get_n_splits(x, y), scoring='average_precision')\n",
        "print(\"%0.2f pr_auc with a standard deviation of %0.2f\" % (scores.mean(), scores.std()))\n"
      ],
      "execution_count": 119,
      "outputs": [
        {
          "output_type": "stream",
          "name": "stdout",
          "text": [
            "0.36 pr_auc with a standard deviation of 0.07\n"
          ]
        }
      ]
    },
    {
      "cell_type": "code",
      "metadata": {
        "colab": {
          "base_uri": "https://localhost:8080/"
        },
        "id": "gLHHWbUSB6Gj",
        "outputId": "931db5b4-6ea4-4ea7-bf0b-5cbb8fae1ba8"
      },
      "source": [
        "skf = StratifiedKFold(n_splits=5)\n",
        "scores_RF_roc = cross_val_score(model1, x, y, cv=skf.get_n_splits(x, y), scoring='roc_auc')\n",
        "print(\"%0.2f roc_auc with a standard deviation of %0.2f\" % (scores_RF_roc.mean(), scores_RF_roc.std()))"
      ],
      "execution_count": 120,
      "outputs": [
        {
          "output_type": "stream",
          "name": "stdout",
          "text": [
            "0.70 roc_auc with a standard deviation of 0.04\n"
          ]
        }
      ]
    },
    {
      "cell_type": "code",
      "metadata": {
        "colab": {
          "base_uri": "https://localhost:8080/"
        },
        "id": "qRdZhnZUDNWy",
        "outputId": "cc6c524c-e081-4840-ce91-b6c3b23a8643"
      },
      "source": [
        "scores = cross_val_score(model1, x, y, cv=skf.get_n_splits(x, y), scoring='average_precision')\n",
        "print(\"%0.2f pr_auc with a standard deviation of %0.2f\" % (scores.mean(), scores.std()))"
      ],
      "execution_count": 121,
      "outputs": [
        {
          "output_type": "stream",
          "name": "stdout",
          "text": [
            "0.40 pr_auc with a standard deviation of 0.08\n"
          ]
        }
      ]
    },
    {
      "cell_type": "markdown",
      "metadata": {
        "id": "CdjsIeDYEOD4"
      },
      "source": [
        "Стратификация улучшает обе метрики качества"
      ]
    },
    {
      "cell_type": "code",
      "metadata": {
        "colab": {
          "base_uri": "https://localhost:8080/"
        },
        "id": "4J63vBmPB6Ky",
        "outputId": "1799d958-4e02-4050-ef5a-f416cd45f961"
      },
      "source": [
        "model1 = RandomForestClassifier(class_weight='balanced')\n",
        "scores_RF_roc = cross_val_score(model1, x, y, cv=kf.get_n_splits(x, y), scoring='roc_auc')\n",
        "print(\"%0.2f roc_auc with a standard deviation of %0.2f\" % (scores_RF_roc.mean(), scores_RF_roc.std()))\n"
      ],
      "execution_count": 122,
      "outputs": [
        {
          "output_type": "stream",
          "name": "stdout",
          "text": [
            "0.72 roc_auc with a standard deviation of 0.07\n"
          ]
        }
      ]
    },
    {
      "cell_type": "code",
      "metadata": {
        "colab": {
          "base_uri": "https://localhost:8080/"
        },
        "id": "DJtlzcM2B6Qg",
        "outputId": "5e964c37-7d03-410e-be7a-68866e3afc2c"
      },
      "source": [
        "scores = cross_val_score(model1, x, y, cv=kf.get_n_splits(x, y), scoring='average_precision')\n",
        "print(\"%0.2f pr_auc with a standard deviation of %0.2f\" % (scores.mean(), scores.std()))"
      ],
      "execution_count": 123,
      "outputs": [
        {
          "output_type": "stream",
          "name": "stdout",
          "text": [
            "0.38 pr_auc with a standard deviation of 0.10\n"
          ]
        }
      ]
    },
    {
      "cell_type": "code",
      "metadata": {
        "colab": {
          "base_uri": "https://localhost:8080/"
        },
        "id": "oH6JwsMeDYio",
        "outputId": "09af9199-f447-4b63-ad70-311a3401ece4"
      },
      "source": [
        "scores_RF_roc = cross_val_score(model1, x, y, cv=skf.get_n_splits(x, y), scoring='roc_auc')\n",
        "print(\"%0.2f roc_auc with a standard deviation of %0.2f\" % (scores_RF_roc.mean(), scores_RF_roc.std()))"
      ],
      "execution_count": 124,
      "outputs": [
        {
          "output_type": "stream",
          "name": "stdout",
          "text": [
            "0.71 roc_auc with a standard deviation of 0.03\n"
          ]
        }
      ]
    },
    {
      "cell_type": "code",
      "metadata": {
        "colab": {
          "base_uri": "https://localhost:8080/"
        },
        "id": "8WiufpCwDYlQ",
        "outputId": "bc864e7c-8c1d-4a76-d87a-13e58cdfcf49"
      },
      "source": [
        "scores = cross_val_score(model1, x, y, cv=skf.get_n_splits(x, y), scoring='average_precision')\n",
        "print(\"%0.2f pr_auc with a standard deviation of %0.2f\" % (scores.mean(), scores.std()))"
      ],
      "execution_count": 125,
      "outputs": [
        {
          "output_type": "stream",
          "name": "stdout",
          "text": [
            "0.43 pr_auc with a standard deviation of 0.07\n"
          ]
        }
      ]
    },
    {
      "cell_type": "markdown",
      "metadata": {
        "id": "NsST6qLaESxp"
      },
      "source": [
        "Стратификация повлияла только на pr_auc"
      ]
    },
    {
      "cell_type": "code",
      "metadata": {
        "id": "vlVmwqgSDqxB"
      },
      "source": [
        "from imblearn.ensemble import BalancedRandomForestClassifier"
      ],
      "execution_count": 126,
      "outputs": []
    },
    {
      "cell_type": "code",
      "metadata": {
        "colab": {
          "base_uri": "https://localhost:8080/"
        },
        "id": "xPAUqEVlDYoO",
        "outputId": "8bf4a330-4b58-40d4-af6d-57100236ac13"
      },
      "source": [
        "model1 = BalancedRandomForestClassifier()\n",
        "scores_RF_roc = cross_val_score(model1, x, y, cv=kf.get_n_splits(x, y), scoring='roc_auc')\n",
        "print(\"%0.2f roc_auc with a standard deviation of %0.2f\" % (scores_RF_roc.mean(), scores_RF_roc.std()))"
      ],
      "execution_count": 127,
      "outputs": [
        {
          "output_type": "stream",
          "name": "stdout",
          "text": [
            "0.73 roc_auc with a standard deviation of 0.06\n"
          ]
        }
      ]
    },
    {
      "cell_type": "code",
      "metadata": {
        "colab": {
          "base_uri": "https://localhost:8080/"
        },
        "id": "jcxFmnIxDuFc",
        "outputId": "8df7d671-949a-440e-975a-c2eec537ba71"
      },
      "source": [
        "scores = cross_val_score(model1, x, y, cv=kf.get_n_splits(x, y), scoring='average_precision')\n",
        "print(\"%0.2f pr_auc with a standard deviation of %0.2f\" % (scores.mean(), scores.std()))"
      ],
      "execution_count": 128,
      "outputs": [
        {
          "output_type": "stream",
          "name": "stdout",
          "text": [
            "0.39 pr_auc with a standard deviation of 0.08\n"
          ]
        }
      ]
    },
    {
      "cell_type": "code",
      "metadata": {
        "colab": {
          "base_uri": "https://localhost:8080/"
        },
        "id": "wEUNeaUlD0Rz",
        "outputId": "9ef7bb18-2dab-41a6-a281-bae9a2e687f8"
      },
      "source": [
        "scores_RF_roc = cross_val_score(model1, x, y, cv=skf.get_n_splits(x, y), scoring='roc_auc')\n",
        "print(\"%0.2f roc_auc with a standard deviation of %0.2f\" % (scores_RF_roc.mean(), scores_RF_roc.std()))"
      ],
      "execution_count": 129,
      "outputs": [
        {
          "output_type": "stream",
          "name": "stdout",
          "text": [
            "0.73 roc_auc with a standard deviation of 0.08\n"
          ]
        }
      ]
    },
    {
      "cell_type": "code",
      "metadata": {
        "colab": {
          "base_uri": "https://localhost:8080/"
        },
        "id": "ihW_hQzYD0Up",
        "outputId": "a58f7590-c473-4acf-f1e2-3798a172252b"
      },
      "source": [
        "scores = cross_val_score(model1, x, y, cv=skf.get_n_splits(x, y), scoring='average_precision')\n",
        "print(\"%0.2f pr_auc with a standard deviation of %0.2f\" % (scores.mean(), scores.std()))"
      ],
      "execution_count": 130,
      "outputs": [
        {
          "output_type": "stream",
          "name": "stdout",
          "text": [
            "0.41 pr_auc with a standard deviation of 0.10\n"
          ]
        }
      ]
    },
    {
      "cell_type": "markdown",
      "metadata": {
        "id": "eOkvN4mQEYfL"
      },
      "source": [
        "Стратификация повлияла только на pr_auc. В данном случае при несбалансирвоанной выборке это гораздо более репрезентативный параметр качества."
      ]
    },
    {
      "cell_type": "markdown",
      "metadata": {
        "id": "P7lhVaXvFScC"
      },
      "source": [
        "Лучшей оказалась вторая модель  RandomForestClassifier с балансировкой классов и стратифицированным сплитом"
      ]
    },
    {
      "cell_type": "markdown",
      "metadata": {
        "id": "qsXYVWT1kQx2"
      },
      "source": [
        "## Задание 5. Корреляция базовых моделей<a class=\"anchor\" style=\"autocontent\" id=\"Задание-5\"/><br>"
      ]
    },
    {
      "cell_type": "markdown",
      "metadata": {
        "id": "7OAyH-LJkQx2"
      },
      "source": [
        "Для случайного леса, на примере датасета breast_cancer, постройте зависимость между попарными корреляциями базовых моделей и числом фичей, которые отбираются в каждую модель. \n",
        "\n",
        "Используйте функцию base_model_pair_correlation из лекции, модифицируйте ее с учетом того, что в отличии от `sklearn.ensemble.Bagging`, деревья в случайном лесу принимают все колонки X_train."
      ]
    },
    {
      "cell_type": "code",
      "metadata": {
        "id": "A5Lj3G0kEy8n"
      },
      "source": [
        "import itertools\n",
        "def base_model_pair_correlation(ensemble, X):\n",
        "    corrs = []\n",
        "    for (i, est1), (j, est2) in itertools.combinations(enumerate(ensemble.estimators_), 2):\n",
        "        Xi_test = X\n",
        "        Xj_test = X\n",
        "        \n",
        "        \n",
        "        if not isinstance(est1, sklearn.svm.SVC): \n",
        "            ypred_t1 = est1.predict_proba(Xi_test)[:, 1]\n",
        "            \n",
        "            ypred_t2 = est2.predict_proba(Xj_test)[:, 1]\n",
        "        else:\n",
        "            ypred_t1 = est1.decision_function(Xi_test)\n",
        "            Xj_test = X_test.values\n",
        "            ypred_t2 = est2.decision_function(Xj_test)\n",
        "        corrs.append(scipy.stats.pearsonr(ypred_t1, ypred_t2)[0])\n",
        "    return np.array(corrs)"
      ],
      "execution_count": 138,
      "outputs": []
    },
    {
      "cell_type": "code",
      "metadata": {
        "id": "juTBKA-9F33i"
      },
      "source": [
        "breast_cancer = sklearn.datasets.load_breast_cancer()"
      ],
      "execution_count": 139,
      "outputs": []
    },
    {
      "cell_type": "code",
      "metadata": {
        "id": "o7uZifR0F7WF"
      },
      "source": [
        "X = breast_cancer.data\n",
        "y = breast_cancer.target\n",
        "X_train, X_test, y_train, y_test = train_test_split(X, y, random_state=42)"
      ],
      "execution_count": 140,
      "outputs": []
    },
    {
      "cell_type": "code",
      "metadata": {
        "id": "wyMc1I0PGAfv"
      },
      "source": [
        "model = RandomForestClassifier()\n",
        "model.fit(X_train, y_train)\n",
        "y_pred = model.predict(X_test)"
      ],
      "execution_count": 141,
      "outputs": []
    },
    {
      "cell_type": "code",
      "metadata": {
        "colab": {
          "base_uri": "https://localhost:8080/"
        },
        "id": "-L_MSgSmFxE3",
        "outputId": "cdd84234-5240-49ab-8d2f-a501c77c293c"
      },
      "source": [
        "base_model_pair_correlation(model, X_test)"
      ],
      "execution_count": 142,
      "outputs": [
        {
          "output_type": "execute_result",
          "data": {
            "text/plain": [
              "array([0.75258749, 0.86920613, 0.8249694 , ..., 0.81332095, 0.82428276,\n",
              "       0.95752831])"
            ]
          },
          "metadata": {},
          "execution_count": 142
        }
      ]
    },
    {
      "cell_type": "code",
      "metadata": {
        "colab": {
          "base_uri": "https://localhost:8080/"
        },
        "id": "TAadHi4FHjjt",
        "outputId": "f5d0e063-a0a4-41d6-f6a0-11922899805b"
      },
      "source": [
        "X_test.shape"
      ],
      "execution_count": 143,
      "outputs": [
        {
          "output_type": "execute_result",
          "data": {
            "text/plain": [
              "(143, 30)"
            ]
          },
          "metadata": {},
          "execution_count": 143
        }
      ]
    },
    {
      "cell_type": "code",
      "metadata": {
        "id": "uhK2GS1pFmkR"
      },
      "source": [
        "pair_correlations = {}\n",
        "for i in range(2,30,5):\n",
        "    model = RandomForestClassifier(max_features = i)\n",
        "    model.fit(X_train, y_train)\n",
        "\n",
        "    pair_correlations[str(i)] = base_model_pair_correlation(model, X_test)"
      ],
      "execution_count": 144,
      "outputs": []
    },
    {
      "cell_type": "code",
      "metadata": {
        "id": "0WL6uT8pkQx2"
      },
      "source": [
        "## ENTER YOUR CODE HERE ##"
      ],
      "execution_count": null,
      "outputs": []
    },
    {
      "cell_type": "code",
      "metadata": {
        "id": "vA-kO99LH2sO"
      },
      "source": [
        "cor_res = pd.DataFrame(pair_correlations)\n",
        "cor_res = cor_res.melt(value_vars=cor_res.columns,\n",
        "                       ) "
      ],
      "execution_count": 150,
      "outputs": []
    },
    {
      "cell_type": "code",
      "metadata": {
        "colab": {
          "base_uri": "https://localhost:8080/",
          "height": 206
        },
        "id": "TGJX7_51IDsJ",
        "outputId": "8b112129-7d2c-4595-99c1-04ed89468cac"
      },
      "source": [
        "cor_res.head()"
      ],
      "execution_count": 151,
      "outputs": [
        {
          "output_type": "execute_result",
          "data": {
            "text/html": [
              "<div>\n",
              "<style scoped>\n",
              "    .dataframe tbody tr th:only-of-type {\n",
              "        vertical-align: middle;\n",
              "    }\n",
              "\n",
              "    .dataframe tbody tr th {\n",
              "        vertical-align: top;\n",
              "    }\n",
              "\n",
              "    .dataframe thead th {\n",
              "        text-align: right;\n",
              "    }\n",
              "</style>\n",
              "<table border=\"1\" class=\"dataframe\">\n",
              "  <thead>\n",
              "    <tr style=\"text-align: right;\">\n",
              "      <th></th>\n",
              "      <th>variable</th>\n",
              "      <th>value</th>\n",
              "    </tr>\n",
              "  </thead>\n",
              "  <tbody>\n",
              "    <tr>\n",
              "      <th>0</th>\n",
              "      <td>2</td>\n",
              "      <td>0.744124</td>\n",
              "    </tr>\n",
              "    <tr>\n",
              "      <th>1</th>\n",
              "      <td>2</td>\n",
              "      <td>0.600943</td>\n",
              "    </tr>\n",
              "    <tr>\n",
              "      <th>2</th>\n",
              "      <td>2</td>\n",
              "      <td>0.744791</td>\n",
              "    </tr>\n",
              "    <tr>\n",
              "      <th>3</th>\n",
              "      <td>2</td>\n",
              "      <td>0.703428</td>\n",
              "    </tr>\n",
              "    <tr>\n",
              "      <th>4</th>\n",
              "      <td>2</td>\n",
              "      <td>0.744643</td>\n",
              "    </tr>\n",
              "  </tbody>\n",
              "</table>\n",
              "</div>"
            ],
            "text/plain": [
              "  variable     value\n",
              "0        2  0.744124\n",
              "1        2  0.600943\n",
              "2        2  0.744791\n",
              "3        2  0.703428\n",
              "4        2  0.744643"
            ]
          },
          "metadata": {},
          "execution_count": 151
        }
      ]
    },
    {
      "cell_type": "code",
      "metadata": {
        "colab": {
          "base_uri": "https://localhost:8080/",
          "height": 386
        },
        "id": "oA_3v_CoH_cd",
        "outputId": "b36ee5d8-1a4d-43de-a60c-04fac11baced"
      },
      "source": [
        "sns.boxplot(cor_res['variable'], cor_res['value'])\n",
        "plt.xlabel('Max features')\n",
        "plt.ylabel('Correlation')"
      ],
      "execution_count": 153,
      "outputs": [
        {
          "output_type": "stream",
          "name": "stderr",
          "text": [
            "/usr/local/lib/python3.7/dist-packages/seaborn/_decorators.py:43: FutureWarning:\n",
            "\n",
            "Pass the following variables as keyword args: x, y. From version 0.12, the only valid positional argument will be `data`, and passing other arguments without an explicit keyword will result in an error or misinterpretation.\n",
            "\n"
          ]
        },
        {
          "output_type": "execute_result",
          "data": {
            "text/plain": [
              "Text(0, 0.5, 'Correlation')"
            ]
          },
          "metadata": {},
          "execution_count": 153
        },
        {
          "output_type": "display_data",
          "data": {
            "image/png": "[encoded data removed]",
            "text/plain": [
              "<Figure size 432x288 with 1 Axes>"
            ]
          },
          "metadata": {
            "needs_background": "light"
          }
        }
      ]
    },
    {
      "cell_type": "markdown",
      "metadata": {
        "id": "fZRpVqD7IXAP"
      },
      "source": [
        "Начиная с 12 (из 30) фичей корреляция между простыми моделями больше не растет. Чем меньше фичей подаем, тем меньше корреляция"
      ]
    },
    {
      "cell_type": "markdown",
      "metadata": {
        "id": "33DiLassIVNA"
      },
      "source": [
        ""
      ]
    },
    {
      "cell_type": "markdown",
      "metadata": {
        "id": "_9dRr33dkQx2"
      },
      "source": [
        "## *Задание 6. Ансамблевое обучение<a class=\"anchor\" style=\"autocontent\" id=\"Задание-6\"/><br>"
      ]
    },
    {
      "cell_type": "markdown",
      "metadata": {
        "id": "RAcTJDq7kQx3"
      },
      "source": [
        "В данной задаче вам нужно диагностировать сердечное заболевание у людей по [медицинским показателям](https://www.kaggle.com/ronitf/heart-disease-uci).\n"
      ]
    },
    {
      "cell_type": "code",
      "metadata": {
        "id": "9ZsxTT-hkQx3",
        "colab": {
          "base_uri": "https://localhost:8080/"
        },
        "outputId": "049c1528-b2e3-4f1c-ef03-44ed036e6f7d"
      },
      "source": [
        "!gdown  --id 1VFbDK-Ad-hpf0_GGCBzn4thdn9mkQ-Y- -O heart.csv \n",
        "heart_dataset = pd.read_csv(\"/content/heart.csv\")"
      ],
      "execution_count": 4,
      "outputs": [
        {
          "output_type": "stream",
          "name": "stdout",
          "text": [
            "Downloading...\n",
            "From: https://drive.google.com/uc?id=1VFbDK-Ad-hpf0_GGCBzn4thdn9mkQ-Y-\n",
            "To: /content/heart.csv\n",
            "\r  0% 0.00/11.3k [00:00<?, ?B/s]\r100% 11.3k/11.3k [00:00<00:00, 9.94MB/s]\n"
          ]
        }
      ]
    },
    {
      "cell_type": "code",
      "metadata": {
        "id": "Y_e-8YIbkQx3",
        "colab": {
          "base_uri": "https://localhost:8080/",
          "height": 206
        },
        "outputId": "bafebd0a-a647-461b-b70f-9c55c204784e"
      },
      "source": [
        "X = heart_dataset.drop(\"target\", axis=1)\n",
        "y = heart_dataset['target']\n",
        "X_train, X_test, y_train, y_test = train_test_split(X, y, random_state=42)\n",
        "X_train.head()"
      ],
      "execution_count": 5,
      "outputs": [
        {
          "output_type": "execute_result",
          "data": {
            "text/html": [
              "<div>\n",
              "<style scoped>\n",
              "    .dataframe tbody tr th:only-of-type {\n",
              "        vertical-align: middle;\n",
              "    }\n",
              "\n",
              "    .dataframe tbody tr th {\n",
              "        vertical-align: top;\n",
              "    }\n",
              "\n",
              "    .dataframe thead th {\n",
              "        text-align: right;\n",
              "    }\n",
              "</style>\n",
              "<table border=\"1\" class=\"dataframe\">\n",
              "  <thead>\n",
              "    <tr style=\"text-align: right;\">\n",
              "      <th></th>\n",
              "      <th>age</th>\n",
              "      <th>sex</th>\n",
              "      <th>cp</th>\n",
              "      <th>trestbps</th>\n",
              "      <th>chol</th>\n",
              "      <th>fbs</th>\n",
              "      <th>restecg</th>\n",
              "      <th>thalach</th>\n",
              "      <th>exang</th>\n",
              "      <th>oldpeak</th>\n",
              "      <th>slope</th>\n",
              "      <th>ca</th>\n",
              "      <th>thal</th>\n",
              "    </tr>\n",
              "  </thead>\n",
              "  <tbody>\n",
              "    <tr>\n",
              "      <th>287</th>\n",
              "      <td>57</td>\n",
              "      <td>1</td>\n",
              "      <td>1</td>\n",
              "      <td>154</td>\n",
              "      <td>232</td>\n",
              "      <td>0</td>\n",
              "      <td>0</td>\n",
              "      <td>164</td>\n",
              "      <td>0</td>\n",
              "      <td>0.0</td>\n",
              "      <td>2</td>\n",
              "      <td>1</td>\n",
              "      <td>2</td>\n",
              "    </tr>\n",
              "    <tr>\n",
              "      <th>282</th>\n",
              "      <td>59</td>\n",
              "      <td>1</td>\n",
              "      <td>2</td>\n",
              "      <td>126</td>\n",
              "      <td>218</td>\n",
              "      <td>1</td>\n",
              "      <td>1</td>\n",
              "      <td>134</td>\n",
              "      <td>0</td>\n",
              "      <td>2.2</td>\n",
              "      <td>1</td>\n",
              "      <td>1</td>\n",
              "      <td>1</td>\n",
              "    </tr>\n",
              "    <tr>\n",
              "      <th>197</th>\n",
              "      <td>67</td>\n",
              "      <td>1</td>\n",
              "      <td>0</td>\n",
              "      <td>125</td>\n",
              "      <td>254</td>\n",
              "      <td>1</td>\n",
              "      <td>1</td>\n",
              "      <td>163</td>\n",
              "      <td>0</td>\n",
              "      <td>0.2</td>\n",
              "      <td>1</td>\n",
              "      <td>2</td>\n",
              "      <td>3</td>\n",
              "    </tr>\n",
              "    <tr>\n",
              "      <th>158</th>\n",
              "      <td>58</td>\n",
              "      <td>1</td>\n",
              "      <td>1</td>\n",
              "      <td>125</td>\n",
              "      <td>220</td>\n",
              "      <td>0</td>\n",
              "      <td>1</td>\n",
              "      <td>144</td>\n",
              "      <td>0</td>\n",
              "      <td>0.4</td>\n",
              "      <td>1</td>\n",
              "      <td>4</td>\n",
              "      <td>3</td>\n",
              "    </tr>\n",
              "    <tr>\n",
              "      <th>164</th>\n",
              "      <td>38</td>\n",
              "      <td>1</td>\n",
              "      <td>2</td>\n",
              "      <td>138</td>\n",
              "      <td>175</td>\n",
              "      <td>0</td>\n",
              "      <td>1</td>\n",
              "      <td>173</td>\n",
              "      <td>0</td>\n",
              "      <td>0.0</td>\n",
              "      <td>2</td>\n",
              "      <td>4</td>\n",
              "      <td>2</td>\n",
              "    </tr>\n",
              "  </tbody>\n",
              "</table>\n",
              "</div>"
            ],
            "text/plain": [
              "     age  sex  cp  trestbps  chol  ...  exang  oldpeak  slope  ca  thal\n",
              "287   57    1   1       154   232  ...      0      0.0      2   1     2\n",
              "282   59    1   2       126   218  ...      0      2.2      1   1     1\n",
              "197   67    1   0       125   254  ...      0      0.2      1   2     3\n",
              "158   58    1   1       125   220  ...      0      0.4      1   4     3\n",
              "164   38    1   2       138   175  ...      0      0.0      2   4     2\n",
              "\n",
              "[5 rows x 13 columns]"
            ]
          },
          "metadata": {},
          "execution_count": 5
        }
      ]
    },
    {
      "cell_type": "code",
      "metadata": {
        "id": "bBuAzdYoUYKd",
        "outputId": "b8c85320-81fa-4f38-840e-02dc7a7c0a70",
        "colab": {
          "base_uri": "https://localhost:8080/"
        }
      },
      "source": [
        "np.unique(y)"
      ],
      "execution_count": 21,
      "outputs": [
        {
          "output_type": "execute_result",
          "data": {
            "text/plain": [
              "array([0, 1])"
            ]
          },
          "metadata": {},
          "execution_count": 21
        }
      ]
    },
    {
      "cell_type": "markdown",
      "metadata": {
        "id": "SJt8l6M5kQx3"
      },
      "source": [
        "Обучите разнообразные классификаторы, приведенные ниже, а также ансамбль `VotingClassifier` из `sklearn.ensemble`, объединяющий эти классификаторы с помощью жесткого или мякого голосования (параметр `voting =` `'hard'` или `'soft'` соответственно). Оцените качество моделей с помощью кросс-валидации на тренировочном наборе, используя функцию `cross_val_score` и метрику `f1`."
      ]
    },
    {
      "cell_type": "code",
      "metadata": {
        "id": "pnTDPh2uSRXu"
      },
      "source": [
        "import warnings\n",
        "warnings.filterwarnings('ignore')"
      ],
      "execution_count": 10,
      "outputs": []
    },
    {
      "cell_type": "code",
      "metadata": {
        "id": "K_0yIwDvkQx3",
        "colab": {
          "base_uri": "https://localhost:8080/"
        },
        "outputId": "e56beb0a-9157-4dc3-a2ab-94df026be86a"
      },
      "source": [
        "rng = np.random.RandomState(42)\n",
        "\n",
        "dt = DecisionTreeClassifier(random_state=rng, max_depth=10, min_samples_leaf=10)\n",
        "rf = RandomForestClassifier(n_estimators=50, random_state=rng)\n",
        "etc = ExtraTreesClassifier(random_state=rng)\n",
        "knn = KNeighborsClassifier(n_neighbors=5, weights='distance')\n",
        "svc_lin = SVC(kernel='linear', probability=True, random_state=rng)\n",
        "svc_rbf = SVC(kernel='rbf', probability=True, random_state=rng)\n",
        "cat = catboost.CatBoostClassifier(verbose=0, random_seed=42)\n",
        "lgbm = lightgbm.LGBMClassifier(random_state=42)\n",
        "lgbm_rf = lightgbm.LGBMClassifier(boosting_type=\"rf\", bagging_freq=1, bagging_fraction=0.7, random_state=42)\n",
        "xgb = xgboost.XGBClassifier(random_state=42)\n",
        "xgb_rf = xgboost.XGBRFClassifier(random_state=42)\n",
        "lr = LogisticRegression(solver='liblinear', max_iter=10000)\n",
        "nb = GaussianNB()\n",
        "\n",
        "## START YOUR CODE HERE ##\n",
        "\n",
        "voting_hard = VotingClassifier(estimators = [('dt', dt), ('rf', rf), ('etc',etc), ('knn', knn),\n",
        "                                             ('svc_lin', svc_lin), ('svc_rbf', svc_rbf), \n",
        "                                             ('cat', cat), ('lr', lr), ('nb', nb),\n",
        "                                             ('lgbm', lgbm), ('lgbm_rf', lgbm_rf), ('xgb', xgb),\n",
        "                                             ('xgb_rf', xgb_rf)],\n",
        "                               voting='hard')\n",
        "voting_soft = VotingClassifier(estimators = [('dt', dt), ('rf', rf), ('etc',etc), ('knn', knn),\n",
        "                                             ('svc_lin', svc_lin), ('svc_rbf', svc_rbf), \n",
        "                                             ('cat', cat), ('lr', lr), ('nb', nb),\n",
        "                                             ('lgbm', lgbm), ('lgbm_rf', lgbm_rf), ('xgb', xgb),\n",
        "                                             ('xgb_rf', xgb_rf)], voting='soft')\n",
        "\n",
        "## END YOUR CODE HERE ##\n",
        "\n",
        "for model in [dt, rf, cat, etc, knn, svc_lin, svc_rbf, xgb, lgbm, xgb_rf, lgbm_rf, lr, nb, voting_hard, voting_soft]: \n",
        "    scores = cross_val_score(model, X_train, y_train, cv=KFold(n_splits=3, shuffle=True, random_state=rng), scoring='f1')\n",
        "    print(f'{model.__class__.__name__}: {scores.mean()}')"
      ],
      "execution_count": 11,
      "outputs": [
        {
          "output_type": "stream",
          "name": "stdout",
          "text": [
            "DecisionTreeClassifier: 0.7957693229810229\n",
            "RandomForestClassifier: 0.7775258199977301\n",
            "CatBoostClassifier: 0.8383007326745985\n",
            "ExtraTreesClassifier: 0.8322016736650882\n",
            "KNeighborsClassifier: 0.6182226182226181\n",
            "SVC: 0.8386009216039275\n",
            "SVC: 0.7014610456939684\n",
            "XGBClassifier: 0.8408008259559123\n",
            "LGBMClassifier: 0.830209411185021\n",
            "XGBRFClassifier: 0.789126559714795\n",
            "LGBMClassifier: 0.8294334975369457\n",
            "LogisticRegression: 0.8262822448868961\n",
            "GaussianNB: 0.8314176245210728\n",
            "VotingClassifier: 0.8214210415348936\n",
            "VotingClassifier: 0.8181039389502702\n"
          ]
        }
      ]
    },
    {
      "cell_type": "markdown",
      "metadata": {
        "id": "3rBSLxFnkQx3"
      },
      "source": [
        "Вы можете заметить, что ансамбль показывает хорошее, но не лучшее качество предсказания, попробуем его улучшить. Как вы знаете, ансамбли работают лучше, когда модели, входящие в них не сккоррелированы друг с другом. Определите корреляцию предсказаний базовых моделей в ансамбле на тренировочном наборе, и удалите из ансамбля те модели, чьи предсказания будут сильнее коррелировать с остальными. Можете модифицировать функцию `base_model_pair_correlation` из предыдущего задания. \n"
      ]
    },
    {
      "cell_type": "code",
      "metadata": {
        "id": "wkHmurjykQx4"
      },
      "source": [
        "import itertools\n",
        "def base_model_pair_correlation_vot(ensemble, X):\n",
        "    corrs = []\n",
        "    for (i, est1), (j, est2) in itertools.combinations(enumerate(ensemble.named_estimators), 2):\n",
        "        Xi_test = X\n",
        "        Xj_test = X\n",
        "        \n",
        "        \n",
        "        if not isinstance(est1, sklearn.svm.SVC): \n",
        "            ypred_t1 = est1.predict_proba(Xi_test)[:, 1]\n",
        "            \n",
        "            ypred_t2 = est2.predict_proba(Xj_test)[:, 1]\n",
        "        else:\n",
        "            ypred_t1 = est1.decision_function(Xi_test)\n",
        "            Xj_test = X_test.values\n",
        "            ypred_t2 = est2.decision_function(Xj_test)\n",
        "        corrs.append(scipy.stats.pearsonr(ypred_t1, ypred_t2)[0])\n",
        "    return np.array(corrs)"
      ],
      "execution_count": 17,
      "outputs": []
    },
    {
      "cell_type": "code",
      "metadata": {
        "id": "L9yKUh2fT1-y"
      },
      "source": [
        "def voting_cor(estimators_list, X_train, y_train, X_test):\n",
        "  corr_list = []\n",
        "  est_1 = []\n",
        "  est_2 = []\n",
        "  for i in range(len(estimators_list)):\n",
        "    model1 = estimators_list[i].fit(X_train, y_train)\n",
        "    y_pred_1 = model1.predict_proba(X_test)[:,1]\n",
        "    for j in range(i + 1, len(estimators_list)):\n",
        "      model2 = estimators_list[j].fit(X_train, y_train)\n",
        "      y_pred_2 = model2.predict_proba(X_test)[:,1]\n",
        "      \n",
        "      corr = scipy.stats.pearsonr(y_pred_1, y_pred_2)[0]\n",
        "      corr_list.append(corr)\n",
        "      est_1.append(estimators_list[i])\n",
        "      est_2.append(estimators_list[j])\n",
        "\n",
        "  out = pd.DataFrame()\n",
        "  out['est_1'] = est_1\n",
        "  out['est_2'] = est_2\n",
        "  out['corr'] = corr_list\n",
        "  return out\n",
        "\n",
        "\n",
        "      \n",
        "      "
      ],
      "execution_count": 27,
      "outputs": []
    },
    {
      "cell_type": "code",
      "metadata": {
        "id": "qlQClCXLStNN"
      },
      "source": [
        "corrdf = voting_cor([dt, rf,etc, knn, svc_lin, svc_rbf, cat, lr, nb, lgbm, lgbm_rf, xgb, xgb_rf],\n",
        "                    X_train, y_train, X_test)"
      ],
      "execution_count": 28,
      "outputs": []
    },
    {
      "cell_type": "code",
      "metadata": {
        "id": "aOTW7U4mWte1"
      },
      "source": [
        "corrdf['est_1'] = corrdf['est_1'].astype(str)\n",
        "corrdf['est_2'] = corrdf['est_2'].astype(str)"
      ],
      "execution_count": 32,
      "outputs": []
    },
    {
      "cell_type": "code",
      "metadata": {
        "id": "8YfefsjoW_3x",
        "outputId": "1360b9c4-7533-467f-c865-0f040ce3861a",
        "colab": {
          "base_uri": "https://localhost:8080/",
          "height": 668
        }
      },
      "source": [
        "corrdf.pivot(index='est_1', columns='est_2', values='corr')\n"
      ],
      "execution_count": 35,
      "outputs": [
        {
          "output_type": "execute_result",
          "data": {
            "text/html": [
              "<div>\n",
              "<style scoped>\n",
              "    .dataframe tbody tr th:only-of-type {\n",
              "        vertical-align: middle;\n",
              "    }\n",
              "\n",
              "    .dataframe tbody tr th {\n",
              "        vertical-align: top;\n",
              "    }\n",
              "\n",
              "    .dataframe thead th {\n",
              "        text-align: right;\n",
              "    }\n",
              "</style>\n",
              "<table border=\"1\" class=\"dataframe\">\n",
              "  <thead>\n",
              "    <tr style=\"text-align: right;\">\n",
              "      <th>est_2</th>\n",
              "      <th>&lt;catboost.core.CatBoostClassifier object at 0x7fb290751710&gt;</th>\n",
              "      <th>ExtraTreesClassifier(random_state=RandomState(MT19937) at 0x7FB2948836B0)</th>\n",
              "      <th>GaussianNB()</th>\n",
              "      <th>KNeighborsClassifier(weights='distance')</th>\n",
              "      <th>LGBMClassifier(bagging_fraction=0.7, bagging_freq=1, boosting_type='rf',\\n               random_state=42)</th>\n",
              "      <th>LGBMClassifier(random_state=42)</th>\n",
              "      <th>LogisticRegression(max_iter=10000, solver='liblinear')</th>\n",
              "      <th>RandomForestClassifier(n_estimators=50,\\n                       random_state=RandomState(MT19937) at 0x7FB2948836B0)</th>\n",
              "      <th>SVC(kernel='linear', probability=True,\\n    random_state=RandomState(MT19937) at 0x7FB2948836B0)</th>\n",
              "      <th>SVC(probability=True, random_state=RandomState(MT19937) at 0x7FB2948836B0)</th>\n",
              "      <th>XGBClassifier(random_state=42)</th>\n",
              "      <th>XGBRFClassifier(random_state=42)</th>\n",
              "    </tr>\n",
              "    <tr>\n",
              "      <th>est_1</th>\n",
              "      <th></th>\n",
              "      <th></th>\n",
              "      <th></th>\n",
              "      <th></th>\n",
              "      <th></th>\n",
              "      <th></th>\n",
              "      <th></th>\n",
              "      <th></th>\n",
              "      <th></th>\n",
              "      <th></th>\n",
              "      <th></th>\n",
              "      <th></th>\n",
              "    </tr>\n",
              "  </thead>\n",
              "  <tbody>\n",
              "    <tr>\n",
              "      <th>&lt;catboost.core.CatBoostClassifier object at 0x7fb290751710&gt;</th>\n",
              "      <td>NaN</td>\n",
              "      <td>NaN</td>\n",
              "      <td>0.853314</td>\n",
              "      <td>NaN</td>\n",
              "      <td>0.927813</td>\n",
              "      <td>0.951100</td>\n",
              "      <td>0.923101</td>\n",
              "      <td>NaN</td>\n",
              "      <td>NaN</td>\n",
              "      <td>NaN</td>\n",
              "      <td>0.969630</td>\n",
              "      <td>0.967367</td>\n",
              "    </tr>\n",
              "    <tr>\n",
              "      <th>DecisionTreeClassifier(max_depth=10, min_samples_leaf=10,\\n                       random_state=RandomState(MT19937) at 0x7FB2948836B0)</th>\n",
              "      <td>0.894209</td>\n",
              "      <td>0.881579</td>\n",
              "      <td>0.741920</td>\n",
              "      <td>0.487680</td>\n",
              "      <td>0.881546</td>\n",
              "      <td>0.833528</td>\n",
              "      <td>0.829008</td>\n",
              "      <td>0.871343</td>\n",
              "      <td>0.831227</td>\n",
              "      <td>0.569159</td>\n",
              "      <td>0.868123</td>\n",
              "      <td>0.934173</td>\n",
              "    </tr>\n",
              "    <tr>\n",
              "      <th>ExtraTreesClassifier(random_state=RandomState(MT19937) at 0x7FB2948836B0)</th>\n",
              "      <td>0.961306</td>\n",
              "      <td>NaN</td>\n",
              "      <td>0.874456</td>\n",
              "      <td>0.438271</td>\n",
              "      <td>0.899498</td>\n",
              "      <td>0.884595</td>\n",
              "      <td>0.921898</td>\n",
              "      <td>NaN</td>\n",
              "      <td>0.917996</td>\n",
              "      <td>0.576061</td>\n",
              "      <td>0.925189</td>\n",
              "      <td>0.942250</td>\n",
              "    </tr>\n",
              "    <tr>\n",
              "      <th>GaussianNB()</th>\n",
              "      <td>NaN</td>\n",
              "      <td>NaN</td>\n",
              "      <td>NaN</td>\n",
              "      <td>NaN</td>\n",
              "      <td>0.761730</td>\n",
              "      <td>0.816869</td>\n",
              "      <td>NaN</td>\n",
              "      <td>NaN</td>\n",
              "      <td>NaN</td>\n",
              "      <td>NaN</td>\n",
              "      <td>0.851916</td>\n",
              "      <td>0.834682</td>\n",
              "    </tr>\n",
              "    <tr>\n",
              "      <th>KNeighborsClassifier(weights='distance')</th>\n",
              "      <td>0.464652</td>\n",
              "      <td>NaN</td>\n",
              "      <td>0.497530</td>\n",
              "      <td>NaN</td>\n",
              "      <td>0.444892</td>\n",
              "      <td>0.436132</td>\n",
              "      <td>0.512503</td>\n",
              "      <td>NaN</td>\n",
              "      <td>0.490175</td>\n",
              "      <td>0.745543</td>\n",
              "      <td>0.434413</td>\n",
              "      <td>0.451531</td>\n",
              "    </tr>\n",
              "    <tr>\n",
              "      <th>LGBMClassifier(bagging_fraction=0.7, bagging_freq=1, boosting_type='rf',\\n               random_state=42)</th>\n",
              "      <td>NaN</td>\n",
              "      <td>NaN</td>\n",
              "      <td>NaN</td>\n",
              "      <td>NaN</td>\n",
              "      <td>NaN</td>\n",
              "      <td>NaN</td>\n",
              "      <td>NaN</td>\n",
              "      <td>NaN</td>\n",
              "      <td>NaN</td>\n",
              "      <td>NaN</td>\n",
              "      <td>0.887745</td>\n",
              "      <td>0.965077</td>\n",
              "    </tr>\n",
              "    <tr>\n",
              "      <th>LGBMClassifier(random_state=42)</th>\n",
              "      <td>NaN</td>\n",
              "      <td>NaN</td>\n",
              "      <td>NaN</td>\n",
              "      <td>NaN</td>\n",
              "      <td>0.872393</td>\n",
              "      <td>NaN</td>\n",
              "      <td>NaN</td>\n",
              "      <td>NaN</td>\n",
              "      <td>NaN</td>\n",
              "      <td>NaN</td>\n",
              "      <td>0.980449</td>\n",
              "      <td>0.922774</td>\n",
              "    </tr>\n",
              "    <tr>\n",
              "      <th>LogisticRegression(max_iter=10000, solver='liblinear')</th>\n",
              "      <td>NaN</td>\n",
              "      <td>NaN</td>\n",
              "      <td>0.940770</td>\n",
              "      <td>NaN</td>\n",
              "      <td>0.842891</td>\n",
              "      <td>0.871211</td>\n",
              "      <td>NaN</td>\n",
              "      <td>NaN</td>\n",
              "      <td>NaN</td>\n",
              "      <td>NaN</td>\n",
              "      <td>0.906157</td>\n",
              "      <td>0.906083</td>\n",
              "    </tr>\n",
              "    <tr>\n",
              "      <th>RandomForestClassifier(n_estimators=50,\\n                       random_state=RandomState(MT19937) at 0x7FB2948836B0)</th>\n",
              "      <td>0.962343</td>\n",
              "      <td>0.959357</td>\n",
              "      <td>0.841153</td>\n",
              "      <td>0.453083</td>\n",
              "      <td>0.914933</td>\n",
              "      <td>0.925090</td>\n",
              "      <td>0.911818</td>\n",
              "      <td>NaN</td>\n",
              "      <td>0.913247</td>\n",
              "      <td>0.578070</td>\n",
              "      <td>0.951369</td>\n",
              "      <td>0.969208</td>\n",
              "    </tr>\n",
              "    <tr>\n",
              "      <th>SVC(kernel='linear', probability=True,\\n    random_state=RandomState(MT19937) at 0x7FB2948836B0)</th>\n",
              "      <td>0.917657</td>\n",
              "      <td>NaN</td>\n",
              "      <td>0.917558</td>\n",
              "      <td>NaN</td>\n",
              "      <td>0.845297</td>\n",
              "      <td>0.864803</td>\n",
              "      <td>0.991793</td>\n",
              "      <td>NaN</td>\n",
              "      <td>NaN</td>\n",
              "      <td>0.620835</td>\n",
              "      <td>0.897256</td>\n",
              "      <td>0.906501</td>\n",
              "    </tr>\n",
              "    <tr>\n",
              "      <th>SVC(probability=True, random_state=RandomState(MT19937) at 0x7FB2948836B0)</th>\n",
              "      <td>0.596481</td>\n",
              "      <td>NaN</td>\n",
              "      <td>0.650259</td>\n",
              "      <td>NaN</td>\n",
              "      <td>0.537961</td>\n",
              "      <td>0.600784</td>\n",
              "      <td>0.641905</td>\n",
              "      <td>NaN</td>\n",
              "      <td>NaN</td>\n",
              "      <td>NaN</td>\n",
              "      <td>0.602084</td>\n",
              "      <td>0.570886</td>\n",
              "    </tr>\n",
              "    <tr>\n",
              "      <th>XGBClassifier(random_state=42)</th>\n",
              "      <td>NaN</td>\n",
              "      <td>NaN</td>\n",
              "      <td>NaN</td>\n",
              "      <td>NaN</td>\n",
              "      <td>NaN</td>\n",
              "      <td>NaN</td>\n",
              "      <td>NaN</td>\n",
              "      <td>NaN</td>\n",
              "      <td>NaN</td>\n",
              "      <td>NaN</td>\n",
              "      <td>NaN</td>\n",
              "      <td>0.950155</td>\n",
              "    </tr>\n",
              "  </tbody>\n",
              "</table>\n",
              "</div>"
            ],
            "text/plain": [
              "est_2                                               <catboost.core.CatBoostClassifier object at 0x7fb290751710>  ...  XGBRFClassifier(random_state=42)\n",
              "est_1                                                                                                            ...                                  \n",
              "<catboost.core.CatBoostClassifier object at 0x7...                                                NaN            ...                          0.967367\n",
              "DecisionTreeClassifier(max_depth=10, min_sample...                                           0.894209            ...                          0.934173\n",
              "ExtraTreesClassifier(random_state=RandomState(M...                                           0.961306            ...                          0.942250\n",
              "GaussianNB()                                                                                      NaN            ...                          0.834682\n",
              "KNeighborsClassifier(weights='distance')                                                     0.464652            ...                          0.451531\n",
              "LGBMClassifier(bagging_fraction=0.7, bagging_fr...                                                NaN            ...                          0.965077\n",
              "LGBMClassifier(random_state=42)                                                                   NaN            ...                          0.922774\n",
              "LogisticRegression(max_iter=10000, solver='libl...                                                NaN            ...                          0.906083\n",
              "RandomForestClassifier(n_estimators=50,\\n      ...                                           0.962343            ...                          0.969208\n",
              "SVC(kernel='linear', probability=True,\\n    ran...                                           0.917657            ...                          0.906501\n",
              "SVC(probability=True, random_state=RandomState(...                                           0.596481            ...                          0.570886\n",
              "XGBClassifier(random_state=42)                                                                    NaN            ...                          0.950155\n",
              "\n",
              "[12 rows x 12 columns]"
            ]
          },
          "metadata": {},
          "execution_count": 35
        }
      ]
    },
    {
      "cell_type": "code",
      "metadata": {
        "id": "hx8qb2hiXWIs",
        "outputId": "06640b0e-b292-4870-bf21-a8c715fb57c0",
        "colab": {
          "base_uri": "https://localhost:8080/"
        }
      },
      "source": [
        "corrdf.pivot(index='est_1', columns='est_2', values='corr').mean(axis=0).sort_values()\n"
      ],
      "execution_count": 38,
      "outputs": [
        {
          "output_type": "execute_result",
          "data": {
            "text/plain": [
              "est_2\n",
              "KNeighborsClassifier(weights='distance')                                                                                0.459678\n",
              "SVC(probability=True, random_state=RandomState(MT19937) at 0x7FB2948836B0)                                              0.617934\n",
              "SVC(kernel='linear', probability=True,\\n    random_state=RandomState(MT19937) at 0x7FB2948836B0)                        0.788161\n",
              "GaussianNB()                                                                                                            0.789620\n",
              "LGBMClassifier(bagging_fraction=0.7, bagging_freq=1, boosting_type='rf',\\n               random_state=42)               0.792895\n",
              "LGBMClassifier(random_state=42)                                                                                         0.798235\n",
              "<catboost.core.CatBoostClassifier object at 0x7fb290751710>                                                             0.799441\n",
              "LogisticRegression(max_iter=10000, solver='liblinear')                                                                  0.818861\n",
              "XGBClassifier(random_state=42)                                                                                          0.843121\n",
              "XGBRFClassifier(random_state=42)                                                                                        0.860057\n",
              "RandomForestClassifier(n_estimators=50,\\n                       random_state=RandomState(MT19937) at 0x7FB2948836B0)    0.871343\n",
              "ExtraTreesClassifier(random_state=RandomState(MT19937) at 0x7FB2948836B0)                                               0.920468\n",
              "dtype: float64"
            ]
          },
          "metadata": {},
          "execution_count": 38
        }
      ]
    },
    {
      "cell_type": "markdown",
      "metadata": {
        "id": "b9kFVf7tXu7_"
      },
      "source": [
        "Удалим все, у которых средняя корреляция > 0,80"
      ]
    },
    {
      "cell_type": "markdown",
      "metadata": {
        "id": "MjQWZ6a5kQx4"
      },
      "source": [
        "\n",
        "Создайте новый ансамбль, на исправленном наборе моделей и оцените его качество с помощью кросс-валидации на тренировочном наборе, используя функцию `cross_val_score` и метрику `f1`."
      ]
    },
    {
      "cell_type": "code",
      "metadata": {
        "id": "0pzwsqb_kQx4",
        "colab": {
          "base_uri": "https://localhost:8080/"
        },
        "outputId": "8a0a8b84-f86b-4da7-e7a8-12fd5d29bc8c"
      },
      "source": [
        "## START CODE HERE ##\n",
        "\n",
        "voting_hard_2 = VotingClassifier(estimators = [('dt', dt), ('knn', knn),\n",
        "                                             ('svc_lin', svc_lin), ('svc_rbf', svc_rbf), \n",
        "                                             ('cat', cat),  ('nb', nb),\n",
        "                                             ('lgbm', lgbm), ('lgbm_rf', lgbm_rf), \n",
        "                                             ],\n",
        "                               voting='hard')\n",
        "voting_soft_2 = VotingClassifier(estimators = [('dt', dt), ('knn', knn),\n",
        "                                             ('svc_lin', svc_lin), ('svc_rbf', svc_rbf), \n",
        "                                             ('cat', cat), ('nb', nb),\n",
        "                                             ('lgbm', lgbm), ('lgbm_rf', lgbm_rf), \n",
        "                                             ],\n",
        "                               voting='soft')\n",
        "\n",
        "## END CODE HERE ##\n",
        "\n",
        "for model in [voting_hard_2, voting_soft_2]:\n",
        "    scores = cross_val_score(model, X_train, y_train, cv=KFold(n_splits=3, shuffle=True, random_state=rng), scoring='f1')\n",
        "    print(f'{model.__class__.__name__}: {scores.mean()}')"
      ],
      "execution_count": 39,
      "outputs": [
        {
          "output_type": "stream",
          "name": "stdout",
          "text": [
            "VotingClassifier: 0.8313751700599493\n",
            "VotingClassifier: 0.8241729872164655\n"
          ]
        }
      ]
    },
    {
      "cell_type": "markdown",
      "metadata": {
        "id": "K232oPDGkQx4"
      },
      "source": [
        "Обучите все получившиеся модели на тренировочном наборе и испытайте их качество на тестовом наборе. Получилось ли у улучшенных версий ансамблевого классификатора превзойти базовые модели, входящие в него и свои предыдущие версии? "
      ]
    },
    {
      "cell_type": "code",
      "metadata": {
        "id": "IEO3nYA2ZU-h"
      },
      "source": [
        "from sklearn.metrics import f1_score"
      ],
      "execution_count": 41,
      "outputs": []
    },
    {
      "cell_type": "code",
      "metadata": {
        "id": "ScmcUmZRkQx4",
        "colab": {
          "base_uri": "https://localhost:8080/"
        },
        "outputId": "b49652cc-5110-4aeb-8690-d3bf041b78e7"
      },
      "source": [
        "rng = np.random.RandomState(42)\n",
        "\n",
        "dt = DecisionTreeClassifier(random_state=rng, max_depth=10, min_samples_leaf=10)\n",
        "rf = RandomForestClassifier(n_estimators=50, random_state=rng)\n",
        "etc = ExtraTreesClassifier(random_state=rng)\n",
        "knn = KNeighborsClassifier(n_neighbors=5, weights='distance')\n",
        "svc_lin = SVC(kernel='linear', probability=True, random_state=rng)\n",
        "svc_rbf = SVC(kernel='rbf', probability=True, random_state=rng)\n",
        "cat = catboost.CatBoostClassifier(verbose=0, random_seed=42)\n",
        "lgbm = lightgbm.LGBMClassifier(random_state=42)\n",
        "lgbm_rf = lightgbm.LGBMClassifier(boosting_type=\"rf\", bagging_freq=1, bagging_fraction=0.7, random_state=42)\n",
        "xgb = xgboost.XGBClassifier(random_state=42)\n",
        "xgb_rf = xgboost.XGBRFClassifier(random_state=42)\n",
        "lr = LogisticRegression(solver='liblinear', max_iter=10000)\n",
        "nb = GaussianNB()\n",
        "\n",
        "## START YOUR CODE HERE ##\n",
        "\n",
        "voting_hard = VotingClassifier(estimators = [('dt', dt), ('rf', rf), ('etc',etc), ('knn', knn),\n",
        "                                             ('svc_lin', svc_lin), ('svc_rbf', svc_rbf), \n",
        "                                             ('cat', cat), ('lr', lr), ('nb', nb),\n",
        "                                             ('lgbm', lgbm), ('lgbm_rf', lgbm_rf), ('xgb', xgb),\n",
        "                                             ('xgb_rf', xgb_rf)],\n",
        "                               voting='hard')\n",
        "voting_soft = VotingClassifier(estimators = [('dt', dt), ('rf', rf), ('etc',etc), ('knn', knn),\n",
        "                                             ('svc_lin', svc_lin), ('svc_rbf', svc_rbf), \n",
        "                                             ('cat', cat), ('lr', lr), ('nb', nb),\n",
        "                                             ('lgbm', lgbm), ('lgbm_rf', lgbm_rf), ('xgb', xgb),\n",
        "                                             ('xgb_rf', xgb_rf)], voting='soft')\n",
        "\n",
        "voting_hard_2 = VotingClassifier(estimators = [('dt', dt), ('knn', knn),\n",
        "                                             ('svc_lin', svc_lin), ('svc_rbf', svc_rbf), \n",
        "                                             ('cat', cat), ('nb', nb),\n",
        "                                             ('lgbm', lgbm), ('lgbm_rf', lgbm_rf), \n",
        "                                             ],\n",
        "                               voting='hard')\n",
        "voting_soft_2 = VotingClassifier(estimators = [('dt', dt), ('knn', knn),\n",
        "                                             ('svc_lin', svc_lin), ('svc_rbf', svc_rbf), \n",
        "                                             ('cat', cat),  ('nb', nb),\n",
        "                                             ('lgbm', lgbm), ('lgbm_rf', lgbm_rf), \n",
        "                                             ],\n",
        "                               voting='soft')\n",
        "\n",
        "\n",
        "for model in [dt, rf, cat, etc, knn, svc_lin, svc_rbf, xgb, lgbm, xgb_rf, lgbm_rf, lr, nb, \n",
        "              voting_hard, voting_soft,voting_hard_2, voting_soft_2]: \n",
        "    model = model.fit(X_train, y_train)\n",
        "    y_pred = model.predict(X_test)\n",
        "    f1 = f1_score(y_test,y_pred, )\n",
        "\n",
        "    \n",
        "    print(f'{model.__class__.__name__}: {f1}')"
      ],
      "execution_count": 45,
      "outputs": [
        {
          "output_type": "stream",
          "name": "stdout",
          "text": [
            "DecisionTreeClassifier: 0.8333333333333333\n",
            "RandomForestClassifier: 0.8571428571428572\n",
            "CatBoostClassifier: 0.8333333333333333\n",
            "ExtraTreesClassifier: 0.8641975308641976\n",
            "KNeighborsClassifier: 0.7380952380952381\n",
            "SVC: 0.8809523809523809\n",
            "SVC: 0.7628865979381443\n",
            "XGBClassifier: 0.8536585365853658\n",
            "LGBMClassifier: 0.8\n",
            "XGBRFClassifier: 0.8333333333333333\n",
            "LGBMClassifier: 0.8735632183908046\n",
            "LogisticRegression: 0.8809523809523809\n",
            "GaussianNB: 0.888888888888889\n",
            "VotingClassifier: 0.8470588235294119\n",
            "VotingClassifier: 0.8604651162790697\n",
            "VotingClassifier: 0.8571428571428572\n",
            "VotingClassifier: 0.8705882352941177\n"
          ]
        }
      ]
    },
    {
      "cell_type": "markdown",
      "metadata": {
        "id": "Ww1Ne1HCaN3Y"
      },
      "source": [
        "У улучшенных ансамблей классификаторов получилось превзойти свои предыдущие версии, однако некоторые базовые класификаторы (логистическая регрессия, GaussianNB, SVC с линейным ядром) оказались немного лучше"
      ]
    },
    {
      "cell_type": "code",
      "metadata": {
        "id": "kwHR_pBUZfTd"
      },
      "source": [
        ""
      ],
      "execution_count": null,
      "outputs": []
    }
  ]
}