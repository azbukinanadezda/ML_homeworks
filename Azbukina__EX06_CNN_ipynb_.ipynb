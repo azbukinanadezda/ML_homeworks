{
  "nbformat": 4,
  "nbformat_minor": 0,
  "metadata": {
    "kernelspec": {
      "display_name": "Python 3",
      "language": "python",
      "name": "python3"
    },
    "language_info": {
      "codemirror_mode": {
        "name": "ipython",
        "version": 3
      },
      "file_extension": ".py",
      "mimetype": "text/x-python",
      "name": "python",
      "nbconvert_exporter": "python",
      "pygments_lexer": "ipython3",
      "version": "3.8.6"
    },
    "colab": {
      "name": "Копия блокнота \"EX06_CNN.ipynb\"",
      "provenance": [],
      "collapsed_sections": [],
      "toc_visible": true
    },
    "accelerator": "GPU",
    "widgets": {
      "application/vnd.jupyter.widget-state+json": {
        "c6e7657de0494804a6d661c7e6b44a2e": {
          "model_module": "@jupyter-widgets/controls",
          "model_name": "HBoxModel",
          "model_module_version": "1.5.0",
          "state": {
            "_view_name": "HBoxView",
            "_dom_classes": [],
            "_model_name": "HBoxModel",
            "_view_module": "@jupyter-widgets/controls",
            "_model_module_version": "1.5.0",
            "_view_count": null,
            "_view_module_version": "1.5.0",
            "box_style": "",
            "layout": "IPY_MODEL_23f8b34411e24bcab23f2eecd7d6237a",
            "_model_module": "@jupyter-widgets/controls",
            "children": [
              "IPY_MODEL_2d60dc9f15af4b7ba3a41382398a6563",
              "IPY_MODEL_efb0a515b91f4742b2fdacb1a6219537",
              "IPY_MODEL_8f2fac74abef4038a36d951ff8b80cd0"
            ]
          }
        },
        "23f8b34411e24bcab23f2eecd7d6237a": {
          "model_module": "@jupyter-widgets/base",
          "model_name": "LayoutModel",
          "model_module_version": "1.2.0",
          "state": {
            "_view_name": "LayoutView",
            "grid_template_rows": null,
            "right": null,
            "justify_content": null,
            "_view_module": "@jupyter-widgets/base",
            "overflow": null,
            "_model_module_version": "1.2.0",
            "_view_count": null,
            "flex_flow": null,
            "width": null,
            "min_width": null,
            "border": null,
            "align_items": null,
            "bottom": null,
            "_model_module": "@jupyter-widgets/base",
            "top": null,
            "grid_column": null,
            "overflow_y": null,
            "overflow_x": null,
            "grid_auto_flow": null,
            "grid_area": null,
            "grid_template_columns": null,
            "flex": null,
            "_model_name": "LayoutModel",
            "justify_items": null,
            "grid_row": null,
            "max_height": null,
            "align_content": null,
            "visibility": null,
            "align_self": null,
            "height": null,
            "min_height": null,
            "padding": null,
            "grid_auto_rows": null,
            "grid_gap": null,
            "max_width": null,
            "order": null,
            "_view_module_version": "1.2.0",
            "grid_template_areas": null,
            "object_position": null,
            "object_fit": null,
            "grid_auto_columns": null,
            "margin": null,
            "display": null,
            "left": null
          }
        },
        "2d60dc9f15af4b7ba3a41382398a6563": {
          "model_module": "@jupyter-widgets/controls",
          "model_name": "HTMLModel",
          "model_module_version": "1.5.0",
          "state": {
            "_view_name": "HTMLView",
            "style": "IPY_MODEL_097c71239a824c09a8d25d75b4f8d155",
            "_dom_classes": [],
            "description": "",
            "_model_name": "HTMLModel",
            "placeholder": "​",
            "_view_module": "@jupyter-widgets/controls",
            "_model_module_version": "1.5.0",
            "value": "",
            "_view_count": null,
            "_view_module_version": "1.5.0",
            "description_tooltip": null,
            "_model_module": "@jupyter-widgets/controls",
            "layout": "IPY_MODEL_6f8a2e3453b341198797fdb3ac841689"
          }
        },
        "efb0a515b91f4742b2fdacb1a6219537": {
          "model_module": "@jupyter-widgets/controls",
          "model_name": "FloatProgressModel",
          "model_module_version": "1.5.0",
          "state": {
            "_view_name": "ProgressView",
            "style": "IPY_MODEL_80bf123f071e4a59949760f8a6216cab",
            "_dom_classes": [],
            "description": "",
            "_model_name": "FloatProgressModel",
            "bar_style": "success",
            "max": 170498071,
            "_view_module": "@jupyter-widgets/controls",
            "_model_module_version": "1.5.0",
            "value": 170498071,
            "_view_count": null,
            "_view_module_version": "1.5.0",
            "orientation": "horizontal",
            "min": 0,
            "description_tooltip": null,
            "_model_module": "@jupyter-widgets/controls",
            "layout": "IPY_MODEL_0d13c280e8dc4b02a3121e69917bd788"
          }
        },
        "8f2fac74abef4038a36d951ff8b80cd0": {
          "model_module": "@jupyter-widgets/controls",
          "model_name": "HTMLModel",
          "model_module_version": "1.5.0",
          "state": {
            "_view_name": "HTMLView",
            "style": "IPY_MODEL_58faef3e3fb54953b46dacdca3ae112a",
            "_dom_classes": [],
            "description": "",
            "_model_name": "HTMLModel",
            "placeholder": "​",
            "_view_module": "@jupyter-widgets/controls",
            "_model_module_version": "1.5.0",
            "value": " 170499072/? [00:03&lt;00:00, 58538387.58it/s]",
            "_view_count": null,
            "_view_module_version": "1.5.0",
            "description_tooltip": null,
            "_model_module": "@jupyter-widgets/controls",
            "layout": "IPY_MODEL_da3907faadda4a4d803cbc82628419c8"
          }
        },
        "097c71239a824c09a8d25d75b4f8d155": {
          "model_module": "@jupyter-widgets/controls",
          "model_name": "DescriptionStyleModel",
          "model_module_version": "1.5.0",
          "state": {
            "_view_name": "StyleView",
            "_model_name": "DescriptionStyleModel",
            "description_width": "",
            "_view_module": "@jupyter-widgets/base",
            "_model_module_version": "1.5.0",
            "_view_count": null,
            "_view_module_version": "1.2.0",
            "_model_module": "@jupyter-widgets/controls"
          }
        },
        "6f8a2e3453b341198797fdb3ac841689": {
          "model_module": "@jupyter-widgets/base",
          "model_name": "LayoutModel",
          "model_module_version": "1.2.0",
          "state": {
            "_view_name": "LayoutView",
            "grid_template_rows": null,
            "right": null,
            "justify_content": null,
            "_view_module": "@jupyter-widgets/base",
            "overflow": null,
            "_model_module_version": "1.2.0",
            "_view_count": null,
            "flex_flow": null,
            "width": null,
            "min_width": null,
            "border": null,
            "align_items": null,
            "bottom": null,
            "_model_module": "@jupyter-widgets/base",
            "top": null,
            "grid_column": null,
            "overflow_y": null,
            "overflow_x": null,
            "grid_auto_flow": null,
            "grid_area": null,
            "grid_template_columns": null,
            "flex": null,
            "_model_name": "LayoutModel",
            "justify_items": null,
            "grid_row": null,
            "max_height": null,
            "align_content": null,
            "visibility": null,
            "align_self": null,
            "height": null,
            "min_height": null,
            "padding": null,
            "grid_auto_rows": null,
            "grid_gap": null,
            "max_width": null,
            "order": null,
            "_view_module_version": "1.2.0",
            "grid_template_areas": null,
            "object_position": null,
            "object_fit": null,
            "grid_auto_columns": null,
            "margin": null,
            "display": null,
            "left": null
          }
        },
        "80bf123f071e4a59949760f8a6216cab": {
          "model_module": "@jupyter-widgets/controls",
          "model_name": "ProgressStyleModel",
          "model_module_version": "1.5.0",
          "state": {
            "_view_name": "StyleView",
            "_model_name": "ProgressStyleModel",
            "description_width": "",
            "_view_module": "@jupyter-widgets/base",
            "_model_module_version": "1.5.0",
            "_view_count": null,
            "_view_module_version": "1.2.0",
            "bar_color": null,
            "_model_module": "@jupyter-widgets/controls"
          }
        },
        "0d13c280e8dc4b02a3121e69917bd788": {
          "model_module": "@jupyter-widgets/base",
          "model_name": "LayoutModel",
          "model_module_version": "1.2.0",
          "state": {
            "_view_name": "LayoutView",
            "grid_template_rows": null,
            "right": null,
            "justify_content": null,
            "_view_module": "@jupyter-widgets/base",
            "overflow": null,
            "_model_module_version": "1.2.0",
            "_view_count": null,
            "flex_flow": null,
            "width": null,
            "min_width": null,
            "border": null,
            "align_items": null,
            "bottom": null,
            "_model_module": "@jupyter-widgets/base",
            "top": null,
            "grid_column": null,
            "overflow_y": null,
            "overflow_x": null,
            "grid_auto_flow": null,
            "grid_area": null,
            "grid_template_columns": null,
            "flex": null,
            "_model_name": "LayoutModel",
            "justify_items": null,
            "grid_row": null,
            "max_height": null,
            "align_content": null,
            "visibility": null,
            "align_self": null,
            "height": null,
            "min_height": null,
            "padding": null,
            "grid_auto_rows": null,
            "grid_gap": null,
            "max_width": null,
            "order": null,
            "_view_module_version": "1.2.0",
            "grid_template_areas": null,
            "object_position": null,
            "object_fit": null,
            "grid_auto_columns": null,
            "margin": null,
            "display": null,
            "left": null
          }
        },
        "58faef3e3fb54953b46dacdca3ae112a": {
          "model_module": "@jupyter-widgets/controls",
          "model_name": "DescriptionStyleModel",
          "model_module_version": "1.5.0",
          "state": {
            "_view_name": "StyleView",
            "_model_name": "DescriptionStyleModel",
            "description_width": "",
            "_view_module": "@jupyter-widgets/base",
            "_model_module_version": "1.5.0",
            "_view_count": null,
            "_view_module_version": "1.2.0",
            "_model_module": "@jupyter-widgets/controls"
          }
        },
        "da3907faadda4a4d803cbc82628419c8": {
          "model_module": "@jupyter-widgets/base",
          "model_name": "LayoutModel",
          "model_module_version": "1.2.0",
          "state": {
            "_view_name": "LayoutView",
            "grid_template_rows": null,
            "right": null,
            "justify_content": null,
            "_view_module": "@jupyter-widgets/base",
            "overflow": null,
            "_model_module_version": "1.2.0",
            "_view_count": null,
            "flex_flow": null,
            "width": null,
            "min_width": null,
            "border": null,
            "align_items": null,
            "bottom": null,
            "_model_module": "@jupyter-widgets/base",
            "top": null,
            "grid_column": null,
            "overflow_y": null,
            "overflow_x": null,
            "grid_auto_flow": null,
            "grid_area": null,
            "grid_template_columns": null,
            "flex": null,
            "_model_name": "LayoutModel",
            "justify_items": null,
            "grid_row": null,
            "max_height": null,
            "align_content": null,
            "visibility": null,
            "align_self": null,
            "height": null,
            "min_height": null,
            "padding": null,
            "grid_auto_rows": null,
            "grid_gap": null,
            "max_width": null,
            "order": null,
            "_view_module_version": "1.2.0",
            "grid_template_areas": null,
            "object_position": null,
            "object_fit": null,
            "grid_auto_columns": null,
            "margin": null,
            "display": null,
            "left": null
          }
        }
      }
    }
  },
  "cells": [
    {
      "cell_type": "markdown",
      "metadata": {
        "id": "nuCHS7Mq9RUe"
      },
      "source": [
        "## Задание 1 (Свёртка)\n",
        "\n",
        "Реализуйте функцию свёртки `conv(x, kernel, stride, pad)`, где:\n",
        "\n",
        "\n",
        "* $\\text{x}$: Двумерный массив размером $(W,H)$;\n",
        "* $\\text{kernel}$: ядро свёртки размером $(K, K)$;\n",
        "* $\\text{stride}$: шаг ядра свёртки. $0 < \\text{stride} \\leq \\min(W,H)$;\n",
        "* $\\text{pad}$: ширина дополнения с каждой из сторон массива. $\\text{pad} > 0$.\n",
        "\n",
        "Результатм работы функции является возвращение следующего значения:\n",
        "* $out$: Результат свертки входных данных $\\text{x}$, имеющий размер $(H', W')$: \n",
        "  - $H' = 1 + (H + 2 \\cdot pad - K)\\ //\\  stride$;\n",
        "  - $W' = 1 + (W + 2 \\cdot pad - K)\\  //\\ stride$.\n",
        "\n",
        "---\n",
        "\n",
        "Воспользуйтесь созданной функцией `conv` для применения [оператора Собеля](https://ru.wikipedia.org/wiki/%D0%9E%D0%BF%D0%B5%D1%80%D0%B0%D1%82%D0%BE%D1%80_%D0%A1%D0%BE%D0%B1%D0%B5%D0%BB%D1%8F) \n",
        "к изображению, после чего выведите результат на экран."
      ]
    },
    {
      "cell_type": "code",
      "metadata": {
        "id": "Q4frj8qDDZb8",
        "colab": {
          "base_uri": "https://localhost:8080/"
        },
        "outputId": "2ce9a23e-2177-44f0-a914-ba4602e4be8c"
      },
      "source": [
        "np.pad(M, pad_width=1, mode='constant', constant_values=5)"
      ],
      "execution_count": null,
      "outputs": [
        {
          "output_type": "execute_result",
          "data": {
            "text/plain": [
              "array([[5, 5, 5, 5, 5, 5, 5, 5],\n",
              "       [5, 0, 1, 2, 0, 1, 2, 5],\n",
              "       [5, 3, 4, 5, 3, 4, 5, 5],\n",
              "       [5, 6, 7, 8, 6, 7, 8, 5],\n",
              "       [5, 0, 1, 2, 0, 1, 2, 5],\n",
              "       [5, 3, 4, 5, 3, 4, 5, 5],\n",
              "       [5, 6, 7, 8, 6, 7, 8, 5],\n",
              "       [5, 5, 5, 5, 5, 5, 5, 5]])"
            ]
          },
          "metadata": {},
          "execution_count": 33
        }
      ]
    },
    {
      "cell_type": "code",
      "metadata": {
        "id": "355rhyeDI6yW"
      },
      "source": [
        "import numpy as np\n",
        "a = np.arange(9).reshape((3, 3))\n",
        "M = np.block([[a, a], [a, a]])\n",
        "#print(M)\n",
        "\n",
        "\n",
        "def conv(x, stride, pad):\n",
        "    # Put your code here\n",
        "    x = np.pad(x, pad_width=1, mode='constant', constant_values=pad)\n",
        "    \n",
        "    i = 0\n",
        "    G1m = []\n",
        "    G2m = []\n",
        "    while (i+3) <= x.shape[0]:\n",
        "        row1 = []\n",
        "        row2 = []\n",
        "       # print(i)\n",
        "        j= 0 \n",
        "        while (j+3) <= x.shape[1]:\n",
        "            #print(j)\n",
        "            G1 = np.array([[-1,-2,-1], [0,0,0], [1,2,1]])\n",
        "            G2 = np.array([[-1,0,1], [-2,0,2], [-1,0,1]])\n",
        "            #print(x[i:i+3, j:j+3])\n",
        "            G1res = np.dot(G1, x[i:i+3, j:j+3])\n",
        "            G2res = np.dot(G2,x[i:i+3, j:j+3])\n",
        "            row1.append(np.sum(G1res))\n",
        "            row2.append(np.sum(G2res))\n",
        "            j += stride\n",
        "        G1m.append(row1)\n",
        "        G2m.append(row2)\n",
        "        i += stride\n",
        "    G1m = np.array(G1m)\n",
        "    G2m = np.array(G2m)\n",
        "    G = np.power((np.power(G1m,2) + np.power(G2m, 2)), 1/2)\n",
        "    return G\n",
        "            \n",
        "\n",
        "    "
      ],
      "execution_count": null,
      "outputs": []
    },
    {
      "cell_type": "code",
      "metadata": {
        "id": "TOk09YJj9RUp",
        "colab": {
          "base_uri": "https://localhost:8080/",
          "height": 286
        },
        "outputId": "1886d3f8-11aa-4fb0-ee60-daf06428fbd5"
      },
      "source": [
        "from skimage import data\n",
        "import matplotlib.pyplot as plt\n",
        "\n",
        "camera = data.camera()\n",
        "plt.figure()\n",
        "plt.imshow(camera, cmap='gray', vmin=0, vmax=255)\n",
        "\n",
        "# put your code here"
      ],
      "execution_count": null,
      "outputs": [
        {
          "output_type": "execute_result",
          "data": {
            "text/plain": [
              "<matplotlib.image.AxesImage at 0x7f24a3554350>"
            ]
          },
          "metadata": {},
          "execution_count": 38
        },
        {
          "output_type": "display_data",
          "data": {
            "image/png": "[encoded data removed]",
            "text/plain": [
              "<Figure size 432x288 with 1 Axes>"
            ]
          },
          "metadata": {
            "needs_background": "light"
          }
        }
      ]
    },
    {
      "cell_type": "code",
      "metadata": {
        "id": "pZsVyDkLIk93",
        "colab": {
          "base_uri": "https://localhost:8080/",
          "height": 286
        },
        "outputId": "8948d401-57a7-4d89-88ee-132d28167d97"
      },
      "source": [
        "# stride 1\n",
        "plt.imshow(conv(camera, 1,5), cmap='gray', vmin=0, vmax=255) "
      ],
      "execution_count": null,
      "outputs": [
        {
          "output_type": "execute_result",
          "data": {
            "text/plain": [
              "<matplotlib.image.AxesImage at 0x7f24a34c19d0>"
            ]
          },
          "metadata": {},
          "execution_count": 42
        },
        {
          "output_type": "display_data",
          "data": {
            "image/png": "[encoded data removed]",
            "text/plain": [
              "<Figure size 432x288 with 1 Axes>"
            ]
          },
          "metadata": {
            "needs_background": "light"
          }
        }
      ]
    },
    {
      "cell_type": "code",
      "metadata": {
        "id": "jThGIWiiJEQq",
        "colab": {
          "base_uri": "https://localhost:8080/",
          "height": 285
        },
        "outputId": "21c63319-0bf1-470f-ba82-3c77ffa237bf"
      },
      "source": [
        "# stride 5\n",
        "plt.imshow(conv(camera, 5,5), cmap='gray', vmin=0, vmax=255) "
      ],
      "execution_count": null,
      "outputs": [
        {
          "output_type": "execute_result",
          "data": {
            "text/plain": [
              "<matplotlib.image.AxesImage at 0x7f24a1000ad0>"
            ]
          },
          "metadata": {},
          "execution_count": 47
        },
        {
          "output_type": "display_data",
          "data": {
            "image/png": "[encoded data removed]",
            "text/plain": [
              "<Figure size 432x288 with 1 Axes>"
            ]
          },
          "metadata": {
            "needs_background": "light"
          }
        }
      ]
    },
    {
      "cell_type": "markdown",
      "metadata": {
        "id": "RdXn9hET9RUq"
      },
      "source": [
        "# Задание №2\n",
        "\n",
        "Создайте сверточную сеть на Pytorch и обучите ее на СIFAR10.\n",
        "\n",
        "Используйте не более трёх сверточных и не более двух полносвязанных слоев, а также один слой субдискретизации.\n",
        "\n",
        "Функцию активации выберите на свое усмотрение.\n",
        "\n",
        "Не применяйте слои других типов.\n",
        "\n",
        "Используйте код для обучения из лекции №5."
      ]
    },
    {
      "cell_type": "code",
      "metadata": {
        "id": "7xJbc6-49RUq"
      },
      "source": [
        "import torch.nn as nn\n",
        "import torch\n",
        "import torch.nn.functional as F\n",
        "\n",
        "\n",
        "class TwoLayerCNN(nn.Module):\n",
        "\n",
        "    def __init__(self):\n",
        "        \"\"\"\n",
        "          Define 2 - 4 convolutional layers : https://pytorch.org/docs/stable/generated/torch.nn.Conv2d.html\n",
        "          with corresponding in/out dimensions\n",
        "\n",
        "          Also define max pooling: https://pytorch.org/docs/stable/generated/torch.nn.MaxPool2d.html\n",
        "          and fully connected layer: https://pytorch.org/docs/stable/generated/torch.nn.Linear.html#torch.nn.Linear\n",
        "        \n",
        "        \"\"\"\n",
        "        \n",
        "        super().__init__()\n",
        "        #self.model = self.seq\n",
        "        self.model = nn.Sequential(\n",
        "          nn.Conv2d(3, 6, 3),\n",
        "          nn.ReLU(),\n",
        "          nn.Flatten(),\n",
        "          nn.Linear(5400, 10)\n",
        "        )\n",
        "\n",
        "\n",
        "\n",
        "    def forward(self, x):  # Forward will be Called from  parent __call__ method\n",
        "        scores = self.model(x)\n",
        "        return scores"
      ],
      "execution_count": null,
      "outputs": []
    },
    {
      "cell_type": "code",
      "metadata": {
        "id": "zMGxoHRqOFyl"
      },
      "source": [
        ""
      ],
      "execution_count": null,
      "outputs": []
    },
    {
      "cell_type": "markdown",
      "metadata": {
        "id": "tg5LOK-T9RUr"
      },
      "source": [
        "Метод для подсчета точности"
      ]
    },
    {
      "cell_type": "code",
      "metadata": {
        "id": "k7kcZesG9RUs"
      },
      "source": [
        "# Validation function. Don't change this code\n",
        "\n",
        "import torch.optim as optim\n",
        "\n",
        "\n",
        "def validate(model, testloader):\n",
        "    correct = 0\n",
        "    total = 0\n",
        "    with torch.no_grad():\n",
        "        for images, labels in testloader:\n",
        "            images = images.to('cuda')\n",
        "            labels = labels.to('cuda')\n",
        "            outputs = model(images)\n",
        "            _, predicted = torch.max(outputs.data, 1)\n",
        "            total += labels.size(0)\n",
        "            correct += (predicted == labels).sum().item()\n",
        "\n",
        "    return correct / total"
      ],
      "execution_count": 14,
      "outputs": []
    },
    {
      "cell_type": "markdown",
      "metadata": {
        "id": "PD4rztXH9RUt"
      },
      "source": [
        "Загрузите CIFAR10"
      ]
    },
    {
      "cell_type": "code",
      "metadata": {
        "id": "m_jXAybl9RUt",
        "colab": {
          "base_uri": "https://localhost:8080/",
          "height": 102,
          "referenced_widgets": [
            "c6e7657de0494804a6d661c7e6b44a2e",
            "23f8b34411e24bcab23f2eecd7d6237a",
            "2d60dc9f15af4b7ba3a41382398a6563",
            "efb0a515b91f4742b2fdacb1a6219537",
            "8f2fac74abef4038a36d951ff8b80cd0",
            "097c71239a824c09a8d25d75b4f8d155",
            "6f8a2e3453b341198797fdb3ac841689",
            "80bf123f071e4a59949760f8a6216cab",
            "0d13c280e8dc4b02a3121e69917bd788",
            "58faef3e3fb54953b46dacdca3ae112a",
            "da3907faadda4a4d803cbc82628419c8"
          ]
        },
        "outputId": "04f85c36-eb9d-4553-be68-b465498facb5"
      },
      "source": [
        "import torchvision\n",
        "from torchvision.datasets import CIFAR10\n",
        "\n",
        "transform = torchvision.transforms.Compose(\n",
        "    [torchvision.transforms.ToTensor()])\n",
        "\n",
        "trainset = CIFAR10(root='./CIFAR10', train=True,\n",
        "                   download=True, transform=transform)\n",
        "testset = CIFAR10(root='./CIFAR10', train=False,\n",
        "                  download=True, transform=transform)"
      ],
      "execution_count": null,
      "outputs": [
        {
          "output_type": "stream",
          "name": "stdout",
          "text": [
            "Downloading https://www.cs.toronto.edu/~kriz/cifar-10-python.tar.gz to ./CIFAR10/cifar-10-python.tar.gz\n"
          ]
        },
        {
          "output_type": "display_data",
          "data": {
            "application/vnd.jupyter.widget-view+json": {
              "model_id": "c6e7657de0494804a6d661c7e6b44a2e",
              "version_minor": 0,
              "version_major": 2
            },
            "text/plain": [
              "  0%|          | 0/170498071 [00:00<?, ?it/s]"
            ]
          },
          "metadata": {}
        },
        {
          "output_type": "stream",
          "name": "stdout",
          "text": [
            "Extracting ./CIFAR10/cifar-10-python.tar.gz to ./CIFAR10\n",
            "Files already downloaded and verified\n"
          ]
        }
      ]
    },
    {
      "cell_type": "code",
      "metadata": {
        "id": "3lh6jewQNWpk"
      },
      "source": [
        "from torch.utils.data import DataLoader\n",
        "batch_size = 256\n",
        "\n",
        "trainloader = DataLoader(trainset, batch_size=batch_size,\n",
        "                         shuffle=True, num_workers=2)\n",
        "testloader = DataLoader(testset, batch_size=batch_size,\n",
        "                        shuffle=False, num_workers=2)\n",
        "classnames = ['Самолет', 'Автомобиль', 'Птица', 'Кошка', 'Олень',\n",
        "              'Собака', 'Лягушка', 'Лошадь', 'Корабль', 'Грузовик']"
      ],
      "execution_count": null,
      "outputs": []
    },
    {
      "cell_type": "markdown",
      "metadata": {
        "id": "QSZH7r_J9RUu"
      },
      "source": [
        "Разместите код для обучения в этом блоке. \n",
        "\n",
        "Используйте GPU. Для этого Вам необходимо в верхней панели выбрать `Среда выполнения > Сменить среду выполнения` и заменить None на GPU."
      ]
    },
    {
      "cell_type": "code",
      "metadata": {
        "id": "15ONhi849RUu",
        "colab": {
          "base_uri": "https://localhost:8080/"
        },
        "outputId": "79fca4ad-db45-43f3-cc3a-ae02a35fe8b6"
      },
      "source": [
        "import torch\n",
        "\n",
        "device = torch.device('cuda' if torch.cuda.is_available() else 'cpu')\n",
        "print('Using device:', device)\n",
        "\n",
        "\n",
        "# Put your code here"
      ],
      "execution_count": null,
      "outputs": [
        {
          "output_type": "stream",
          "name": "stdout",
          "text": [
            "Using device: cuda\n"
          ]
        }
      ]
    },
    {
      "cell_type": "code",
      "metadata": {
        "id": "LvurPHjuOOup"
      },
      "source": [
        "def train(model, loss_function, optimizer, epochs=10, tag=\"cifar10\"):\n",
        "    \n",
        "    for epoch in range(epochs):\n",
        "        print(epoch)\n",
        "        hist_loss = 0\n",
        "        for images, labels in trainloader:  # get bacth\n",
        "            images = images.to('cuda')\n",
        "            labels = labels.to('cuda')\n",
        "            outputs = model(images)  # call forward inside\n",
        "\n",
        "            loss = loss_function(outputs, labels)  # calculate loss\n",
        "            loss.backward()  # calculate gradients\n",
        "            # performs a single optimization step (parameter update).\n",
        "            optimizer.step()\n",
        "            # sets the gradients of all optimized tensors to zero.\n",
        "            optimizer.zero_grad()\n",
        "\n",
        "            hist_loss += loss.item() \n",
        "           # For stat only\n",
        "\n",
        "       \n",
        "    accuracy = validate(model, testloader)\n",
        "    return accuracy"
      ],
      "execution_count": 15,
      "outputs": []
    },
    {
      "cell_type": "code",
      "metadata": {
        "id": "Yfq07YYWQmLW",
        "colab": {
          "base_uri": "https://localhost:8080/"
        },
        "outputId": "e6305d1b-d4dd-43b0-ec78-fa7657b632bb"
      },
      "source": [
        "images.device"
      ],
      "execution_count": null,
      "outputs": [
        {
          "output_type": "execute_result",
          "data": {
            "text/plain": [
              "device(type='cpu')"
            ]
          },
          "metadata": {},
          "execution_count": 77
        }
      ]
    },
    {
      "cell_type": "code",
      "metadata": {
        "id": "O5skk5mcP4K_",
        "colab": {
          "base_uri": "https://localhost:8080/"
        },
        "outputId": "5ae8b0d5-bc5b-4e6a-9567-48809d5b5677"
      },
      "source": [
        "model = TwoLayerCNN()  # Create model instance\n",
        "optimizer = torch.optim.SGD(model.parameters(), lr=0.001)  # Weight update\n",
        "model = model.to('cuda')\n",
        "train(model, nn.CrossEntropyLoss(), optimizer, epochs=10)"
      ],
      "execution_count": null,
      "outputs": [
        {
          "output_type": "stream",
          "name": "stdout",
          "text": [
            "0\n",
            "1\n",
            "2\n",
            "3\n",
            "4\n",
            "5\n",
            "6\n",
            "7\n",
            "8\n",
            "9\n"
          ]
        },
        {
          "output_type": "execute_result",
          "data": {
            "text/plain": [
              "0.3208"
            ]
          },
          "metadata": {},
          "execution_count": 81
        }
      ]
    },
    {
      "cell_type": "markdown",
      "metadata": {
        "id": "C4cxc-EJ9RUv"
      },
      "source": [
        "# Задание №3\n",
        "\n",
        "Постройте график зависимости точности вашей модели от количества свёрточных слоёв в ней. График строится на основе точности модели после десятой эпохи обучения. "
      ]
    },
    {
      "cell_type": "code",
      "metadata": {
        "id": "Jhc1lugeRvVz"
      },
      "source": [
        "class TwoLayerCNN(nn.Module):\n",
        "\n",
        "    def __init__(self, sequence):\n",
        "        \"\"\"\n",
        "          Define 2 - 4 convolutional layers : https://pytorch.org/docs/stable/generated/torch.nn.Conv2d.html\n",
        "          with corresponding in/out dimensions\n",
        "\n",
        "          Also define max pooling: https://pytorch.org/docs/stable/generated/torch.nn.MaxPool2d.html\n",
        "          and fully connected layer: https://pytorch.org/docs/stable/generated/torch.nn.Linear.html#torch.nn.Linear\n",
        "        \n",
        "        \"\"\"\n",
        "        \n",
        "        super().__init__()\n",
        "        self.sequence = sequence\n",
        "        self.model = self.sequence\n",
        "        \n",
        "\n",
        "\n",
        "    def forward(self, x):  # Forward will be Called from  parent __call__ method\n",
        "        scores = self.model(x)\n",
        "        return scores"
      ],
      "execution_count": null,
      "outputs": []
    },
    {
      "cell_type": "code",
      "metadata": {
        "id": "6ERUI8zwSpPY",
        "colab": {
          "base_uri": "https://localhost:8080/"
        },
        "outputId": "e7147cbb-71a6-4594-f39f-ac8fa7c7da92"
      },
      "source": [
        "sequence1 = nn.Sequential(\n",
        "          nn.Conv2d(3, 6, 3),\n",
        "          nn.ReLU(),\n",
        "          nn.Flatten(),\n",
        "          nn.Linear(5400, 10)\n",
        "        )\n",
        "\n",
        "\n",
        "model = TwoLayerCNN(sequence = sequence1)  # Create model instance\n",
        "optimizer = torch.optim.SGD(model.parameters(), lr=0.001)  # Weight update\n",
        "model = model.to('cuda')\n",
        "\n",
        "\n",
        "\n",
        "accur1 = train(model, nn.CrossEntropyLoss(), optimizer, epochs=10)\n"
      ],
      "execution_count": null,
      "outputs": [
        {
          "output_type": "stream",
          "name": "stdout",
          "text": [
            "0\n",
            "1\n",
            "2\n",
            "3\n",
            "4\n",
            "5\n",
            "6\n",
            "7\n",
            "8\n",
            "9\n"
          ]
        }
      ]
    },
    {
      "cell_type": "code",
      "metadata": {
        "id": "AetT6a0WVAZT",
        "colab": {
          "base_uri": "https://localhost:8080/"
        },
        "outputId": "3a22729b-9913-45ec-b612-4c738bf9af58"
      },
      "source": [
        "print(accur1)"
      ],
      "execution_count": null,
      "outputs": [
        {
          "output_type": "stream",
          "name": "stdout",
          "text": [
            "0.3286\n"
          ]
        }
      ]
    },
    {
      "cell_type": "code",
      "metadata": {
        "id": "J0FKKqLBTaI3",
        "colab": {
          "base_uri": "https://localhost:8080/"
        },
        "outputId": "d2d97502-bab9-47f7-fad3-f04cd3855c55"
      },
      "source": [
        "tinynet = nn.Sequential(\n",
        "          nn.Conv2d(3, 6, 3),\n",
        "          nn.ReLU(),\n",
        "          nn.Conv2d(6, 3, 3),\n",
        "          nn.ReLU(),\n",
        "          nn.Flatten(),\n",
        "          nn.Linear(2352, 10)\n",
        "        )\n",
        "\n",
        "tinytensor = torch.rand(1,3, 32,32)\n",
        "tinynet(tinytensor).shape"
      ],
      "execution_count": null,
      "outputs": [
        {
          "output_type": "execute_result",
          "data": {
            "text/plain": [
              "torch.Size([1, 10])"
            ]
          },
          "metadata": {},
          "execution_count": 102
        }
      ]
    },
    {
      "cell_type": "code",
      "metadata": {
        "id": "gu7-TG3GU4K7",
        "colab": {
          "base_uri": "https://localhost:8080/"
        },
        "outputId": "c2e8b978-4c5a-40fa-9863-408a9227512f"
      },
      "source": [
        "sequence2 = nn.Sequential(\n",
        "          nn.Conv2d(3, 6, 3),\n",
        "          nn.ReLU(),\n",
        "          nn.Conv2d(6, 3, 3),\n",
        "          nn.ReLU(),\n",
        "          nn.Flatten(),\n",
        "          nn.Linear(2352, 10)\n",
        "        )\n",
        "\n",
        "\n",
        "\n",
        "model = TwoLayerCNN(sequence = sequence2)  # Create model instance\n",
        "optimizer = torch.optim.SGD(model.parameters(), lr=0.001)  # Weight update\n",
        "model = model.to('cuda')\n",
        "\n",
        "\n",
        "\n",
        "accur2 = train(model, nn.CrossEntropyLoss(), optimizer, epochs=10)\n"
      ],
      "execution_count": null,
      "outputs": [
        {
          "output_type": "stream",
          "name": "stdout",
          "text": [
            "0\n",
            "1\n",
            "2\n",
            "3\n",
            "4\n",
            "5\n",
            "6\n",
            "7\n",
            "8\n",
            "9\n"
          ]
        }
      ]
    },
    {
      "cell_type": "code",
      "metadata": {
        "id": "ZHBC4GcnVCSb",
        "colab": {
          "base_uri": "https://localhost:8080/"
        },
        "outputId": "7f6a44af-1ffb-46bd-b300-01c4e3e55594"
      },
      "source": [
        "print(accur2)"
      ],
      "execution_count": null,
      "outputs": [
        {
          "output_type": "stream",
          "name": "stdout",
          "text": [
            "0.3159\n"
          ]
        }
      ]
    },
    {
      "cell_type": "code",
      "metadata": {
        "id": "kcVzwq17VISF",
        "colab": {
          "base_uri": "https://localhost:8080/"
        },
        "outputId": "d2375f19-4081-42af-e6b6-21ad78c96513"
      },
      "source": [
        "tinynet = nn.Sequential(\n",
        "          nn.Conv2d(3, 6, 3),\n",
        "          nn.ReLU(),\n",
        "          nn.Conv2d(6, 10, 10),\n",
        "          nn.ReLU(),\n",
        "          nn.Conv2d(10, 20, 10),\n",
        "          nn.ReLU(),\n",
        "          nn.Flatten(),\n",
        "          nn.Linear(2880, 10)\n",
        "        )\n",
        "\n",
        "tinytensor = torch.rand(1,3, 32,32)\n",
        "tinynet(tinytensor).shape"
      ],
      "execution_count": null,
      "outputs": [
        {
          "output_type": "execute_result",
          "data": {
            "text/plain": [
              "torch.Size([1, 2880])"
            ]
          },
          "metadata": {},
          "execution_count": 121
        }
      ]
    },
    {
      "cell_type": "code",
      "metadata": {
        "id": "PqigQovSVIV2",
        "colab": {
          "base_uri": "https://localhost:8080/"
        },
        "outputId": "2a8fff0d-7a43-4a8a-b259-eae3fc0149bd"
      },
      "source": [
        "sequence3 = nn.Sequential(\n",
        "         nn.Conv2d(3, 6, 3),\n",
        "          nn.ReLU(),\n",
        "          nn.Conv2d(6, 10, 10),\n",
        "          nn.ReLU(),\n",
        "          nn.Conv2d(10, 20, 10),\n",
        "          nn.ReLU(),\n",
        "          nn.Flatten(),\n",
        "          nn.Linear(2880, 10)\n",
        "        )\n",
        "\n",
        "\n",
        "\n",
        "model = TwoLayerCNN(sequence = sequence3)  # Create model instance\n",
        "optimizer = torch.optim.SGD(model.parameters(), lr=0.001)  # Weight update\n",
        "model = model.to('cuda')\n",
        "\n",
        "\n",
        "\n",
        "accur3 = train(model, nn.CrossEntropyLoss(), optimizer, epochs=10)\n",
        "print(accur3)"
      ],
      "execution_count": null,
      "outputs": [
        {
          "output_type": "stream",
          "name": "stdout",
          "text": [
            "0\n",
            "1\n",
            "2\n",
            "3\n",
            "4\n",
            "5\n",
            "6\n",
            "7\n",
            "8\n",
            "9\n",
            "0.2427\n"
          ]
        }
      ]
    },
    {
      "cell_type": "code",
      "metadata": {
        "id": "ctUgNBKWVIY5",
        "colab": {
          "base_uri": "https://localhost:8080/"
        },
        "outputId": "b79969f7-1c63-48d6-8847-4ab1c2ac15fb"
      },
      "source": [
        "tinynet = nn.Sequential(\n",
        "          nn.Conv2d(3, 6, 3),\n",
        "          nn.ReLU(),\n",
        "          nn.Conv2d(6, 3, 3),\n",
        "          nn.ReLU(),\n",
        "          nn.Conv2d(3, 2, 1),\n",
        "          nn.ReLU(),\n",
        "          nn.Conv2d(2, 1, 1),\n",
        "          nn.ReLU(),\n",
        "          nn.Flatten(),\n",
        "          nn.Linear(784, 10))\n",
        "        \n",
        "\n",
        "tinytensor = torch.rand(1,3, 32,32)\n",
        "tinynet(tinytensor).shape"
      ],
      "execution_count": null,
      "outputs": [
        {
          "output_type": "execute_result",
          "data": {
            "text/plain": [
              "torch.Size([1, 10])"
            ]
          },
          "metadata": {},
          "execution_count": 115
        }
      ]
    },
    {
      "cell_type": "code",
      "metadata": {
        "id": "QkrMXt9zV6wi",
        "colab": {
          "base_uri": "https://localhost:8080/"
        },
        "outputId": "5c6e05b3-f51d-4b8c-86f4-75d1e25dc66c"
      },
      "source": [
        "sequence4 = nn.Sequential(\n",
        "          nn.Conv2d(3, 6, 3),\n",
        "          nn.ReLU(),\n",
        "          nn.Conv2d(6, 3, 3),\n",
        "          nn.ReLU(),\n",
        "          nn.Conv2d(3, 2, 1),\n",
        "          nn.ReLU(),\n",
        "          nn.Conv2d(2, 1, 1),\n",
        "          nn.ReLU(),\n",
        "          nn.Flatten(),\n",
        "          nn.Linear(784, 10)\n",
        "        )\n",
        "\n",
        "\n",
        "\n",
        "model = TwoLayerCNN(sequence = sequence4)  # Create model instance\n",
        "optimizer = torch.optim.SGD(model.parameters(), lr=0.001)  # Weight update\n",
        "model = model.to('cuda')\n",
        "\n",
        "\n",
        "\n",
        "accur4 = train(model, nn.CrossEntropyLoss(), optimizer, epochs=10)\n",
        "print(accur4)"
      ],
      "execution_count": null,
      "outputs": [
        {
          "output_type": "stream",
          "name": "stdout",
          "text": [
            "0\n",
            "1\n",
            "2\n",
            "3\n",
            "4\n",
            "5\n",
            "6\n",
            "7\n",
            "8\n",
            "9\n",
            "0.0894\n"
          ]
        }
      ]
    },
    {
      "cell_type": "code",
      "metadata": {
        "id": "Vnyf4fvm9RUw",
        "colab": {
          "base_uri": "https://localhost:8080/",
          "height": 278
        },
        "outputId": "3384a0cc-fee4-4130-dba4-d4b16156401f"
      },
      "source": [
        "import matplotlib.pyplot as plt\n",
        "\n",
        "plt.plot(['1','2','3','4'], [accur1,accur2,accur3,accur4])\n",
        "plt.xlabel('N conv')\n",
        "plt.ylabel('accuracy')\n",
        "plt.show()\n",
        "# Place your code here"
      ],
      "execution_count": null,
      "outputs": [
        {
          "output_type": "display_data",
          "data": {
            "image/png": "[encoded data removed]",
            "text/plain": [
              "<Figure size 432x288 with 1 Axes>"
            ]
          },
          "metadata": {
            "needs_background": "light"
          }
        }
      ]
    },
    {
      "cell_type": "markdown",
      "metadata": {
        "id": "ex3F-YaW9RUw"
      },
      "source": [
        "Вывод:  \n",
        " с увеличением числа слоев accuracy падает (в не зависимости от того, увеличиваем ли мы число выходных каналов в свертке и уменьшаем). Скорее всего это связано с маленьким размером изображения"
      ]
    },
    {
      "cell_type": "markdown",
      "metadata": {
        "id": "jNNus8BQ9RUx"
      },
      "source": [
        "# Задание №4\n",
        "\n",
        "Используя созданные датасеты, обучите свёрточную нейронную сеть для определения заболевания растения. Используя фиксированную (по свёрточным слоям) архитектуру модели, посмотрите на качество обучения при различных размерах входных изображений и опишите причину наблюдаемой закономерности."
      ]
    },
    {
      "cell_type": "code",
      "metadata": {
        "id": "1C3LwXDx9RUx",
        "colab": {
          "base_uri": "https://localhost:8080/"
        },
        "outputId": "3bfc0d08-e512-4a18-ac21-71c76860ea53"
      },
      "source": [
        "!wget https://storage.googleapis.com/ibeans/train.zip\n",
        "!wget https://storage.googleapis.com/ibeans/validation.zip\n",
        "!wget https://storage.googleapis.com/ibeans/test.zip"
      ],
      "execution_count": 2,
      "outputs": [
        {
          "output_type": "stream",
          "name": "stdout",
          "text": [
            "--2021-11-20 13:21:44--  https://storage.googleapis.com/ibeans/train.zip\n",
            "Resolving storage.googleapis.com (storage.googleapis.com)... 108.177.111.128, 108.177.121.128, 142.250.103.128, ...\n",
            "Connecting to storage.googleapis.com (storage.googleapis.com)|108.177.111.128|:443... connected.\n",
            "HTTP request sent, awaiting response... 200 OK\n",
            "Length: 143812152 (137M) [application/zip]\n",
            "Saving to: ‘train.zip’\n",
            "\n",
            "train.zip           100%[===================>] 137.15M   173MB/s    in 0.8s    \n",
            "\n",
            "2021-11-20 13:21:45 (173 MB/s) - ‘train.zip’ saved [143812152/143812152]\n",
            "\n",
            "--2021-11-20 13:21:45--  https://storage.googleapis.com/ibeans/validation.zip\n",
            "Resolving storage.googleapis.com (storage.googleapis.com)... 173.194.196.128, 173.194.197.128, 64.233.191.128, ...\n",
            "Connecting to storage.googleapis.com (storage.googleapis.com)|173.194.196.128|:443... connected.\n",
            "HTTP request sent, awaiting response... 200 OK\n",
            "Length: 18504213 (18M) [application/zip]\n",
            "Saving to: ‘validation.zip’\n",
            "\n",
            "validation.zip      100%[===================>]  17.65M  --.-KB/s    in 0.1s    \n",
            "\n",
            "2021-11-20 13:21:45 (143 MB/s) - ‘validation.zip’ saved [18504213/18504213]\n",
            "\n",
            "--2021-11-20 13:21:46--  https://storage.googleapis.com/ibeans/test.zip\n",
            "Resolving storage.googleapis.com (storage.googleapis.com)... 173.194.195.128, 173.194.197.128, 64.233.191.128, ...\n",
            "Connecting to storage.googleapis.com (storage.googleapis.com)|173.194.195.128|:443... connected.\n",
            "HTTP request sent, awaiting response... 200 OK\n",
            "Length: 17708541 (17M) [application/zip]\n",
            "Saving to: ‘test.zip’\n",
            "\n",
            "test.zip            100%[===================>]  16.89M  --.-KB/s    in 0.1s    \n",
            "\n",
            "2021-11-20 13:21:46 (143 MB/s) - ‘test.zip’ saved [17708541/17708541]\n",
            "\n"
          ]
        }
      ]
    },
    {
      "cell_type": "code",
      "metadata": {
        "id": "g3B9hEqN9RUy"
      },
      "source": [
        "!unzip train.zip\n",
        "!unzip validation.zip\n",
        "!unzip test.zip"
      ],
      "execution_count": null,
      "outputs": []
    },
    {
      "cell_type": "code",
      "metadata": {
        "id": "2KET0-WoeFRs"
      },
      "source": [
        "import torch.nn as nn\n",
        "import torch\n",
        "import torch.nn.functional as F"
      ],
      "execution_count": 1,
      "outputs": []
    },
    {
      "cell_type": "code",
      "metadata": {
        "id": "vBym6AqU9RUz"
      },
      "source": [
        "from torchvision.io import read_image\n",
        "from torch.utils.data import Dataset, DataLoader\n",
        "from torchvision.transforms import ToTensor, Compose, ToPILImage\n",
        "from torchvision.transforms import Normalize, Resize\n",
        "\n",
        "from glob import glob\n",
        "import torch\n",
        "import os"
      ],
      "execution_count": 2,
      "outputs": []
    },
    {
      "cell_type": "code",
      "metadata": {
        "id": "TdeqcfyT9RU0"
      },
      "source": [
        "class BeanDataset(Dataset):\n",
        "    def __init__(self, img_dir, side_size=500):\n",
        "        # folder with images\n",
        "        self.img_dir = img_dir\n",
        "        # ordered list of all the images\n",
        "        self.files = sorted(glob(f'{img_dir}/*/*.jpg'))\n",
        "        class_names = sorted(os.listdir(img_dir))\n",
        "        # map names to class idx\n",
        "        self.class_dir = {name: idx for idx, name in enumerate(class_names)}\n",
        "\n",
        "        # set of transforms applied to the images\n",
        "        self.transforms = Compose([ToPILImage(),\n",
        "                                  Resize(side_size),\n",
        "                                  ToTensor(),\n",
        "                                  Normalize(\n",
        "                                      mean=[0.5183, 0.4845, 0.6570],\n",
        "                                      std=[0.2111, 0.2227, 0.2291]\n",
        "        )])\n",
        "\n",
        "    def __len__(self):\n",
        "        return len(self.files)\n",
        "\n",
        "    def __getitem__(self, idx):\n",
        "        file_path = self.files[idx]\n",
        "        image = read_image(file_path).type(torch.DoubleTensor)\n",
        "\n",
        "        # applying transforms\n",
        "        transformed_img = self.transforms(image)\n",
        "\n",
        "        # picking the penultimate folder name\n",
        "        label_name = file_path.split('/')[-2]\n",
        "        label = self.class_dir[label_name]\n",
        "\n",
        "        return transformed_img, label"
      ],
      "execution_count": 4,
      "outputs": []
    },
    {
      "cell_type": "code",
      "metadata": {
        "id": "AIkwHmUV9RU2"
      },
      "source": [
        "train_dataset = BeanDataset('./train/', side_size=50)\n",
        "valid_dataset = BeanDataset('./validation/', side_size=50)\n",
        "test_dataset = BeanDataset('./test/', side_size=50)"
      ],
      "execution_count": 36,
      "outputs": []
    },
    {
      "cell_type": "code",
      "metadata": {
        "id": "ISPcDgr39RU3"
      },
      "source": [
        "trainloader = DataLoader(train_dataset, batch_size=32)\n",
        "testloader = DataLoader(test_dataset, batch_size=32)"
      ],
      "execution_count": 37,
      "outputs": []
    },
    {
      "cell_type": "code",
      "metadata": {
        "id": "yC-ZDwh-aKaF"
      },
      "source": [
        "# размер картинки [32, 3, 50, 50]"
      ],
      "execution_count": null,
      "outputs": []
    },
    {
      "cell_type": "code",
      "metadata": {
        "id": "BXqIgCGuh8QO"
      },
      "source": [
        "class TwoLayerCNN(nn.Module):\n",
        "\n",
        "    def __init__(self, sequence):\n",
        "        \"\"\"\n",
        "          Define 2 - 4 convolutional layers : https://pytorch.org/docs/stable/generated/torch.nn.Conv2d.html\n",
        "          with corresponding in/out dimensions\n",
        "\n",
        "          Also define max pooling: https://pytorch.org/docs/stable/generated/torch.nn.MaxPool2d.html\n",
        "          and fully connected layer: https://pytorch.org/docs/stable/generated/torch.nn.Linear.html#torch.nn.Linear\n",
        "        \n",
        "        \"\"\"\n",
        "        \n",
        "        super().__init__()\n",
        "        self.sequence = sequence\n",
        "        self.model = self.sequence\n",
        "        \n",
        "\n",
        "\n",
        "    def forward(self, x):  # Forward will be Called from  parent __call__ method\n",
        "        scores = self.model(x)\n",
        "        return scores"
      ],
      "execution_count": 12,
      "outputs": []
    },
    {
      "cell_type": "code",
      "metadata": {
        "id": "h8GQui_7cFd4",
        "colab": {
          "base_uri": "https://localhost:8080/"
        },
        "outputId": "81684d25-5837-4fc6-ebe2-d8d7af72da95"
      },
      "source": [
        "tinynet = nn.Sequential(\n",
        "         nn.Conv2d(3, 1, 30),\n",
        "          nn.ReLU(),\n",
        "          nn.Flatten(),\n",
        "          \n",
        "          nn.Linear(441, 3),\n",
        "\n",
        "          )\n",
        "        \n",
        "\n",
        "tinytensor = torch.rand(32, 3, 50, 50)\n",
        "tinynet(tinytensor).shape"
      ],
      "execution_count": 34,
      "outputs": [
        {
          "output_type": "execute_result",
          "data": {
            "text/plain": [
              "torch.Size([32, 3])"
            ]
          },
          "metadata": {},
          "execution_count": 34
        }
      ]
    },
    {
      "cell_type": "code",
      "metadata": {
        "id": "4xM4X6UybiD7",
        "colab": {
          "base_uri": "https://localhost:8080/"
        },
        "outputId": "a33c31fa-9038-41d3-fc83-5f575e4c7bfe"
      },
      "source": [
        "sequence1 = nn.Sequential(\n",
        "         nn.Conv2d(3, 1, 30),\n",
        "          nn.ReLU(),\n",
        "          nn.Flatten(),\n",
        "          \n",
        "          nn.Linear(441, 3),\n",
        "\n",
        "          )\n",
        "        \n",
        "\n",
        "model = TwoLayerCNN(sequence = sequence1)  # Create model instance\n",
        "optimizer = torch.optim.SGD(model.parameters(), lr=0.001)  # Weight update\n",
        "model = model.to('cuda')\n",
        "\n",
        "accur1 = train(model, nn.CrossEntropyLoss(), optimizer, epochs=10)\n",
        "print(accur1)"
      ],
      "execution_count": 38,
      "outputs": [
        {
          "output_type": "stream",
          "name": "stdout",
          "text": [
            "0\n",
            "1\n",
            "2\n",
            "3\n",
            "4\n",
            "5\n",
            "6\n",
            "7\n",
            "8\n",
            "9\n",
            "0.453125\n"
          ]
        }
      ]
    },
    {
      "cell_type": "code",
      "metadata": {
        "id": "voF3K7Hkc8D4"
      },
      "source": [
        "train_dataset = BeanDataset('./train/',side_size=100)\n",
        "\n",
        "test_dataset = BeanDataset('./test/',side_size=100)\n",
        "trainloader = DataLoader(train_dataset, batch_size=32)\n",
        "testloader = DataLoader(test_dataset, batch_size=32)"
      ],
      "execution_count": 43,
      "outputs": []
    },
    {
      "cell_type": "code",
      "metadata": {
        "colab": {
          "base_uri": "https://localhost:8080/"
        },
        "id": "WXK4bn14iAY0",
        "outputId": "1e6ec63d-7321-4071-9d07-51e9b3178785"
      },
      "source": [
        "tinynet = nn.Sequential(\n",
        "         nn.Conv2d(3, 1, 30),\n",
        "          nn.ReLU(),\n",
        "          nn.Flatten(),\n",
        "          \n",
        "          nn.Linear(5041, 3),\n",
        "\n",
        "          )\n",
        "        \n",
        "        \n",
        "        \n",
        "\n",
        "tinytensor = torch.rand(32, 3, 100, 100)\n",
        "tinynet(tinytensor).shape"
      ],
      "execution_count": 44,
      "outputs": [
        {
          "output_type": "execute_result",
          "data": {
            "text/plain": [
              "torch.Size([32, 3])"
            ]
          },
          "metadata": {},
          "execution_count": 44
        }
      ]
    },
    {
      "cell_type": "code",
      "metadata": {
        "colab": {
          "base_uri": "https://localhost:8080/"
        },
        "id": "h4b95l5TiYgL",
        "outputId": "4cd817b7-eb9e-400e-9eb5-5c34baffca74"
      },
      "source": [
        "sequence2 = nn.Sequential(\n",
        "         nn.Conv2d(3, 1, 30),\n",
        "          nn.ReLU(),\n",
        "          nn.Flatten(),\n",
        "          \n",
        "          nn.Linear(5041, 3),\n",
        "\n",
        "          )\n",
        "        \n",
        "\n",
        "model = TwoLayerCNN(sequence = sequence2)  # Create model instance\n",
        "optimizer = torch.optim.SGD(model.parameters(), lr=0.001)  # Weight update\n",
        "model = model.to('cuda')\n",
        "\n",
        "accur2 = train(model, nn.CrossEntropyLoss(), optimizer, epochs=10)\n",
        "print(accur2)"
      ],
      "execution_count": 46,
      "outputs": [
        {
          "output_type": "stream",
          "name": "stdout",
          "text": [
            "0\n",
            "1\n",
            "2\n",
            "3\n",
            "4\n",
            "5\n",
            "6\n",
            "7\n",
            "8\n",
            "9\n",
            "0.3125\n"
          ]
        }
      ]
    },
    {
      "cell_type": "code",
      "metadata": {
        "id": "fyI4n3sBjv3u"
      },
      "source": [
        "train_dataset = BeanDataset('./train/',side_size=200)\n",
        "\n",
        "test_dataset = BeanDataset('./test/',side_size=200)\n",
        "trainloader = DataLoader(train_dataset, batch_size=32)\n",
        "testloader = DataLoader(test_dataset, batch_size=32)"
      ],
      "execution_count": 47,
      "outputs": []
    },
    {
      "cell_type": "code",
      "metadata": {
        "colab": {
          "base_uri": "https://localhost:8080/"
        },
        "id": "WEnmhoBliSp7",
        "outputId": "768025cf-a3e4-4554-8cf4-659e258aea8c"
      },
      "source": [
        "tinynet = nn.Sequential(\n",
        "         nn.Conv2d(3, 1, 30),\n",
        "          nn.ReLU(),\n",
        "          nn.Flatten(),\n",
        "          \n",
        "          nn.Linear(29241, 3),\n",
        "\n",
        "          )\n",
        "        \n",
        "        \n",
        "\n",
        "tinytensor = torch.rand(32, 3, 200, 200)\n",
        "tinynet(tinytensor).shape"
      ],
      "execution_count": 49,
      "outputs": [
        {
          "output_type": "execute_result",
          "data": {
            "text/plain": [
              "torch.Size([32, 3])"
            ]
          },
          "metadata": {},
          "execution_count": 49
        }
      ]
    },
    {
      "cell_type": "code",
      "metadata": {
        "colab": {
          "base_uri": "https://localhost:8080/"
        },
        "id": "B1wjUxEmj0qc",
        "outputId": "696043f4-d538-4c16-c0d4-9044943d0877"
      },
      "source": [
        "sequence3 = nn.Sequential(\n",
        "         nn.Conv2d(3, 1, 30),\n",
        "          nn.ReLU(),\n",
        "          nn.Flatten(),\n",
        "          \n",
        "          nn.Linear(29241, 3),\n",
        "\n",
        "          )\n",
        "        \n",
        "\n",
        "model = TwoLayerCNN(sequence = sequence3)  # Create model instance\n",
        "optimizer = torch.optim.SGD(model.parameters(), lr=0.001)  # Weight update\n",
        "model = model.to('cuda')\n",
        "\n",
        "accur3 = train(model, nn.CrossEntropyLoss(), optimizer, epochs=10)\n",
        "print(accur3)"
      ],
      "execution_count": 50,
      "outputs": [
        {
          "output_type": "stream",
          "name": "stdout",
          "text": [
            "0\n",
            "1\n",
            "2\n",
            "3\n",
            "4\n",
            "5\n",
            "6\n",
            "7\n",
            "8\n",
            "9\n",
            "0.328125\n"
          ]
        }
      ]
    },
    {
      "cell_type": "code",
      "metadata": {
        "id": "Wpht3NdI9RU3",
        "colab": {
          "base_uri": "https://localhost:8080/",
          "height": 283
        },
        "outputId": "403edc61-912f-43ea-c710-9af0e6f55de1"
      },
      "source": [
        "import matplotlib.pyplot as plt\n",
        "\n",
        "plt.plot(['50','100','200'], [accur1,accur2,accur3])\n",
        "plt.xlabel('imagesize')\n",
        "plt.ylabel('accuracy')\n",
        "plt.show()\n",
        "# Place your code here"
      ],
      "execution_count": 51,
      "outputs": [
        {
          "output_type": "display_data",
          "data": {
            "image/png": "[encoded data removed]",
            "text/plain": [
              "<Figure size 432x288 with 1 Axes>"
            ]
          },
          "metadata": {
            "needs_background": "light"
          }
        }
      ]
    },
    {
      "cell_type": "markdown",
      "metadata": {
        "id": "d5GUHkvm9RU4"
      },
      "source": [
        "Вывод: \n",
        "В датасете 3 класса (согласно описанию в гугле: 2 болезни и 1 здоровый) \n",
        "С увеличением размера изображения качество для простейшей архитектуры с одной сверткой резко падает (при увеличении с 50 до 100), а потом растет, но не разительно. Скорее всего это может быть связано с неоптимальной архитектурой, которая не позволяет ловить тонки изменения, только большие паттерны, поэтому при увеличении размера изображения качество не увеличивается"
      ]
    },
    {
      "cell_type": "code",
      "metadata": {
        "id": "x_awtKqYlOWM"
      },
      "source": [
        ""
      ],
      "execution_count": null,
      "outputs": []
    }
  ]
}